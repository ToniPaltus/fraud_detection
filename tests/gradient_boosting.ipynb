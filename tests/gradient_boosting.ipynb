{
 "cells": [
  {
   "cell_type": "markdown",
   "source": [
    "## 0. Import libraries"
   ],
   "metadata": {
    "collapsed": false
   }
  },
  {
   "cell_type": "code",
   "execution_count": 1,
   "metadata": {
    "collapsed": true,
    "ExecuteTime": {
     "start_time": "2023-04-12T12:32:58.854054Z",
     "end_time": "2023-04-12T12:32:58.901121Z"
    }
   },
   "outputs": [],
   "source": [
    "import pandas as pd\n",
    "import numpy as np\n",
    "\n",
    "from sklearn.metrics import confusion_matrix, classification_report, roc_auc_score"
   ]
  },
  {
   "cell_type": "markdown",
   "source": [
    "## 1. Data preparation"
   ],
   "metadata": {
    "collapsed": false
   }
  },
  {
   "cell_type": "code",
   "execution_count": 2,
   "outputs": [],
   "source": [
    "train_features = pd.read_csv('../datasets/train_features.csv')\n",
    "test_features = pd.read_csv('../datasets/test_features.csv')\n",
    "\n",
    "train_features.drop(['Unnamed: 0'], axis=1, inplace=True)\n",
    "test_features.drop(['Unnamed: 0'], axis=1, inplace=True)"
   ],
   "metadata": {
    "collapsed": false,
    "ExecuteTime": {
     "start_time": "2023-04-12T12:32:58.902917Z",
     "end_time": "2023-04-12T12:33:00.083672Z"
    }
   }
  },
  {
   "cell_type": "code",
   "execution_count": 3,
   "outputs": [],
   "source": [
    "#train_features.info()"
   ],
   "metadata": {
    "collapsed": false,
    "ExecuteTime": {
     "start_time": "2023-04-12T12:33:00.085424Z",
     "end_time": "2023-04-12T12:33:00.087557Z"
    }
   }
  },
  {
   "cell_type": "code",
   "execution_count": 4,
   "outputs": [],
   "source": [
    "#test_features.info()"
   ],
   "metadata": {
    "collapsed": false,
    "ExecuteTime": {
     "start_time": "2023-04-12T12:33:00.088562Z",
     "end_time": "2023-04-12T12:33:00.090231Z"
    }
   }
  },
  {
   "cell_type": "markdown",
   "source": [
    "## 2. Model preparation"
   ],
   "metadata": {
    "collapsed": false
   }
  },
  {
   "cell_type": "markdown",
   "source": [
    "### 2.1 Categorial Encoding"
   ],
   "metadata": {
    "collapsed": false
   }
  },
  {
   "cell_type": "code",
   "execution_count": 5,
   "outputs": [],
   "source": [
    "categories = ['category', 'merchant', 'state', 'job']"
   ],
   "metadata": {
    "collapsed": false,
    "ExecuteTime": {
     "start_time": "2023-04-12T12:33:00.091892Z",
     "end_time": "2023-04-12T12:33:00.092702Z"
    }
   }
  },
  {
   "cell_type": "markdown",
   "source": [
    "#### 2.1.1 Ordinal Encoding"
   ],
   "metadata": {
    "collapsed": false
   }
  },
  {
   "cell_type": "code",
   "execution_count": 6,
   "outputs": [
    {
     "name": "stderr",
     "output_type": "stream",
     "text": [
      "/tmp/ipykernel_8475/1251951326.py:5: FutureWarning: In a future version, `df.iloc[:, i] = newvals` will attempt to set the values inplace instead of always setting a new array. To retain the old behavior, use either `df[df.columns[i]] = newvals` or, if columns are non-unique, `df.isetitem(i, newvals)`\n",
      "  train_features.loc[:, categories] = ordinal_encoder.transform(train_features[categories])\n",
      "/tmp/ipykernel_8475/1251951326.py:8: FutureWarning: In a future version, `df.iloc[:, i] = newvals` will attempt to set the values inplace instead of always setting a new array. To retain the old behavior, use either `df[df.columns[i]] = newvals` or, if columns are non-unique, `df.isetitem(i, newvals)`\n",
      "  test_features.loc[:, categories] = ordinal_encoder.transform(test_features[categories])\n"
     ]
    },
    {
     "data": {
      "text/plain": "    age  amount(usd)  hour_of_day  category  merchant  state  city_pop  job  \\\n0  35.0         4.97            0         8       514     27      3495  370   \n1  44.0       107.23            0         4       241     47       149  428   \n2  61.0       220.11            0         0       390     13      4154  307   \n3  56.0        45.00            0         2       360     26      1939  328   \n4  37.0        41.96            0         9       297     45        99  116   \n\n   is_fraud  \n0         0  \n1         0  \n2         0  \n3         0  \n4         0  ",
      "text/html": "<div>\n<style scoped>\n    .dataframe tbody tr th:only-of-type {\n        vertical-align: middle;\n    }\n\n    .dataframe tbody tr th {\n        vertical-align: top;\n    }\n\n    .dataframe thead th {\n        text-align: right;\n    }\n</style>\n<table border=\"1\" class=\"dataframe\">\n  <thead>\n    <tr style=\"text-align: right;\">\n      <th></th>\n      <th>age</th>\n      <th>amount(usd)</th>\n      <th>hour_of_day</th>\n      <th>category</th>\n      <th>merchant</th>\n      <th>state</th>\n      <th>city_pop</th>\n      <th>job</th>\n      <th>is_fraud</th>\n    </tr>\n  </thead>\n  <tbody>\n    <tr>\n      <th>0</th>\n      <td>35.0</td>\n      <td>4.97</td>\n      <td>0</td>\n      <td>8</td>\n      <td>514</td>\n      <td>27</td>\n      <td>3495</td>\n      <td>370</td>\n      <td>0</td>\n    </tr>\n    <tr>\n      <th>1</th>\n      <td>44.0</td>\n      <td>107.23</td>\n      <td>0</td>\n      <td>4</td>\n      <td>241</td>\n      <td>47</td>\n      <td>149</td>\n      <td>428</td>\n      <td>0</td>\n    </tr>\n    <tr>\n      <th>2</th>\n      <td>61.0</td>\n      <td>220.11</td>\n      <td>0</td>\n      <td>0</td>\n      <td>390</td>\n      <td>13</td>\n      <td>4154</td>\n      <td>307</td>\n      <td>0</td>\n    </tr>\n    <tr>\n      <th>3</th>\n      <td>56.0</td>\n      <td>45.00</td>\n      <td>0</td>\n      <td>2</td>\n      <td>360</td>\n      <td>26</td>\n      <td>1939</td>\n      <td>328</td>\n      <td>0</td>\n    </tr>\n    <tr>\n      <th>4</th>\n      <td>37.0</td>\n      <td>41.96</td>\n      <td>0</td>\n      <td>9</td>\n      <td>297</td>\n      <td>45</td>\n      <td>99</td>\n      <td>116</td>\n      <td>0</td>\n    </tr>\n  </tbody>\n</table>\n</div>"
     },
     "execution_count": 6,
     "metadata": {},
     "output_type": "execute_result"
    }
   ],
   "source": [
    "from sklearn.preprocessing import OrdinalEncoder\n",
    "ordinal_encoder = OrdinalEncoder(dtype=np.int64)\n",
    "\n",
    "ordinal_encoder.fit(train_features.loc[:, categories])\n",
    "train_features.loc[:, categories] = ordinal_encoder.transform(train_features[categories])\n",
    "\n",
    "ordinal_encoder.fit(test_features.loc[:, categories])\n",
    "test_features.loc[:, categories] = ordinal_encoder.transform(test_features[categories])\n",
    "\n",
    "train_features.head()"
   ],
   "metadata": {
    "collapsed": false,
    "ExecuteTime": {
     "start_time": "2023-04-12T12:33:00.095657Z",
     "end_time": "2023-04-12T12:33:02.358130Z"
    }
   }
  },
  {
   "cell_type": "markdown",
   "source": [
    "#### 2.1.2 Label Encoding"
   ],
   "metadata": {
    "collapsed": false
   }
  },
  {
   "cell_type": "code",
   "execution_count": 7,
   "outputs": [],
   "source": [
    "# from sklearn.preprocessing import LabelEncoder\n",
    "# label_encoder = LabelEncoder()\n",
    "#\n",
    "# for category in categories:\n",
    "#     train_features[category] = label_encoder.fit_transform(train_features[category])\n",
    "#     test_features[category] = label_encoder.fit_transform(test_features[category])\n",
    "#\n",
    "# train_features.head()"
   ],
   "metadata": {
    "collapsed": false,
    "ExecuteTime": {
     "start_time": "2023-04-12T12:33:02.360277Z",
     "end_time": "2023-04-12T12:33:02.362147Z"
    }
   }
  },
  {
   "cell_type": "markdown",
   "source": [],
   "metadata": {
    "collapsed": false
   }
  },
  {
   "cell_type": "markdown",
   "source": [
    "#### 2.1.3 Count Encoding"
   ],
   "metadata": {
    "collapsed": false
   }
  },
  {
   "cell_type": "code",
   "execution_count": 8,
   "outputs": [],
   "source": [
    "# from category_encoders import CountEncoder\n",
    "# count_encoder = CountEncoder()\n",
    "#\n",
    "# for category in categories:\n",
    "#     train_features[category] = count_encoder.fit_transform(train_features[category])\n",
    "#     test_features[category] = count_encoder.fit_transform(test_features[category])\n",
    "#\n",
    "# train_features.head()"
   ],
   "metadata": {
    "collapsed": false,
    "ExecuteTime": {
     "start_time": "2023-04-12T12:33:02.363508Z",
     "end_time": "2023-04-12T12:33:02.365949Z"
    }
   }
  },
  {
   "cell_type": "markdown",
   "source": [
    "#### 2.1.4 One-Hot Encoding"
   ],
   "metadata": {
    "collapsed": false
   }
  },
  {
   "cell_type": "markdown",
   "source": [
    "It is too long working"
   ],
   "metadata": {
    "collapsed": false
   }
  },
  {
   "cell_type": "code",
   "execution_count": 9,
   "outputs": [],
   "source": [
    "# train_features = pd.get_dummies(train_features, columns=categories)\n",
    "# test_features = pd.get_dummies(test_features, columns=categories)\n",
    "# train_features"
   ],
   "metadata": {
    "collapsed": false,
    "ExecuteTime": {
     "start_time": "2023-04-12T12:33:02.367630Z",
     "end_time": "2023-04-12T12:33:02.369047Z"
    }
   }
  },
  {
   "cell_type": "markdown",
   "source": [
    "### 2.2 Train-test split"
   ],
   "metadata": {
    "collapsed": false
   }
  },
  {
   "cell_type": "code",
   "execution_count": 10,
   "outputs": [],
   "source": [
    "y_train = train_features['is_fraud'].values\n",
    "X_train = train_features.drop(['is_fraud'], axis='columns').values\n",
    "\n",
    "y_test = test_features['is_fraud'].values\n",
    "X_test = test_features.drop(['is_fraud'], axis='columns').values"
   ],
   "metadata": {
    "collapsed": false,
    "ExecuteTime": {
     "start_time": "2023-04-12T12:33:02.399637Z",
     "end_time": "2023-04-12T12:33:02.488864Z"
    }
   }
  },
  {
   "cell_type": "code",
   "execution_count": 11,
   "outputs": [
    {
     "name": "stdout",
     "output_type": "stream",
     "text": [
      "y_train:    1296675\n",
      "X_train:    1296675\n",
      "\n",
      "y_test:    555719\n",
      "X_test:    555719\n"
     ]
    }
   ],
   "source": [
    "print('y_train:   ', len(y_train))\n",
    "print('X_train:   ', len(X_train))\n",
    "print()\n",
    "print('y_test:   ', len(y_test))\n",
    "print('X_test:   ', len(X_test))\n"
   ],
   "metadata": {
    "collapsed": false,
    "ExecuteTime": {
     "start_time": "2023-04-12T12:33:02.486557Z",
     "end_time": "2023-04-12T12:33:02.489171Z"
    }
   }
  },
  {
   "cell_type": "markdown",
   "source": [
    "### 2.3. Solving disbalance"
   ],
   "metadata": {
    "collapsed": false
   }
  },
  {
   "cell_type": "markdown",
   "source": [
    "#### 2.3.1 SMOTE"
   ],
   "metadata": {
    "collapsed": false
   }
  },
  {
   "cell_type": "code",
   "execution_count": 12,
   "outputs": [],
   "source": [
    "from imblearn.over_sampling import SMOTE\n",
    "\n",
    "method = SMOTE()\n",
    "X_train_resampled, y_train_resampled = method.fit_resample(X_train, y_train)\n",
    "X_test_resampled, y_test_resampled = method.fit_resample(X_test, y_test)\n",
    "\n",
    "# X_train_resampled = X_train\n",
    "# y_train_resampled = y_train"
   ],
   "metadata": {
    "collapsed": false,
    "ExecuteTime": {
     "start_time": "2023-04-12T12:33:02.486661Z",
     "end_time": "2023-04-12T12:33:03.051580Z"
    }
   }
  },
  {
   "cell_type": "code",
   "execution_count": 13,
   "outputs": [
    {
     "name": "stdout",
     "output_type": "stream",
     "text": [
      "1289169\n",
      "1289169\n",
      "2578338\n",
      "X_resampled:\t 2578338\n",
      "y_resampled:\t 2578338\n"
     ]
    }
   ],
   "source": [
    "print(len(y_train_resampled[y_train_resampled == 0]))\n",
    "print(len(y_train_resampled[y_train_resampled == 1]))\n",
    "print(len(X_train_resampled))\n",
    "print('X_resampled:\\t', len(X_train_resampled))\n",
    "print('y_resampled:\\t', len(y_train_resampled))"
   ],
   "metadata": {
    "collapsed": false,
    "ExecuteTime": {
     "start_time": "2023-04-12T12:33:03.054350Z",
     "end_time": "2023-04-12T12:33:03.065204Z"
    }
   }
  },
  {
   "cell_type": "markdown",
   "source": [
    "#### 2.3.2 ADASYN"
   ],
   "metadata": {
    "collapsed": false
   }
  },
  {
   "cell_type": "code",
   "execution_count": 14,
   "outputs": [],
   "source": [
    "# from imblearn.over_sampling import ADASYN\n",
    "# method = ADASYN()\n",
    "# X_train_resampled, y_train_resampled = method.fit_resample(X_train, y_train)\n",
    "#\n",
    "# print(len(y_train_resampled[y_train_resampled == 0]))\n",
    "# print(len(y_train_resampled[y_train_resampled == 1]))\n",
    "# print(len(X_train_resampled))\n",
    "# print('X_resampled:\\t', len(X_train_resampled))\n",
    "# print('y_resampled:\\t', len(y_train_resampled))"
   ],
   "metadata": {
    "collapsed": false,
    "ExecuteTime": {
     "start_time": "2023-04-12T12:33:03.065863Z",
     "end_time": "2023-04-12T12:33:03.113847Z"
    }
   }
  },
  {
   "cell_type": "markdown",
   "source": [
    "### 7. Gradient boosting"
   ],
   "metadata": {
    "collapsed": false
   }
  },
  {
   "cell_type": "code",
   "execution_count": 15,
   "outputs": [],
   "source": [
    "from sklearn.ensemble import GradientBoostingClassifier"
   ],
   "metadata": {
    "collapsed": false,
    "ExecuteTime": {
     "start_time": "2023-04-12T12:33:03.106544Z",
     "end_time": "2023-04-12T12:33:03.114128Z"
    }
   }
  },
  {
   "cell_type": "code",
   "execution_count": 16,
   "outputs": [
    {
     "data": {
      "text/plain": "GradientBoostingClassifier()",
      "text/html": "<style>#sk-container-id-1 {color: black;background-color: white;}#sk-container-id-1 pre{padding: 0;}#sk-container-id-1 div.sk-toggleable {background-color: white;}#sk-container-id-1 label.sk-toggleable__label {cursor: pointer;display: block;width: 100%;margin-bottom: 0;padding: 0.3em;box-sizing: border-box;text-align: center;}#sk-container-id-1 label.sk-toggleable__label-arrow:before {content: \"▸\";float: left;margin-right: 0.25em;color: #696969;}#sk-container-id-1 label.sk-toggleable__label-arrow:hover:before {color: black;}#sk-container-id-1 div.sk-estimator:hover label.sk-toggleable__label-arrow:before {color: black;}#sk-container-id-1 div.sk-toggleable__content {max-height: 0;max-width: 0;overflow: hidden;text-align: left;background-color: #f0f8ff;}#sk-container-id-1 div.sk-toggleable__content pre {margin: 0.2em;color: black;border-radius: 0.25em;background-color: #f0f8ff;}#sk-container-id-1 input.sk-toggleable__control:checked~div.sk-toggleable__content {max-height: 200px;max-width: 100%;overflow: auto;}#sk-container-id-1 input.sk-toggleable__control:checked~label.sk-toggleable__label-arrow:before {content: \"▾\";}#sk-container-id-1 div.sk-estimator input.sk-toggleable__control:checked~label.sk-toggleable__label {background-color: #d4ebff;}#sk-container-id-1 div.sk-label input.sk-toggleable__control:checked~label.sk-toggleable__label {background-color: #d4ebff;}#sk-container-id-1 input.sk-hidden--visually {border: 0;clip: rect(1px 1px 1px 1px);clip: rect(1px, 1px, 1px, 1px);height: 1px;margin: -1px;overflow: hidden;padding: 0;position: absolute;width: 1px;}#sk-container-id-1 div.sk-estimator {font-family: monospace;background-color: #f0f8ff;border: 1px dotted black;border-radius: 0.25em;box-sizing: border-box;margin-bottom: 0.5em;}#sk-container-id-1 div.sk-estimator:hover {background-color: #d4ebff;}#sk-container-id-1 div.sk-parallel-item::after {content: \"\";width: 100%;border-bottom: 1px solid gray;flex-grow: 1;}#sk-container-id-1 div.sk-label:hover label.sk-toggleable__label {background-color: #d4ebff;}#sk-container-id-1 div.sk-serial::before {content: \"\";position: absolute;border-left: 1px solid gray;box-sizing: border-box;top: 0;bottom: 0;left: 50%;z-index: 0;}#sk-container-id-1 div.sk-serial {display: flex;flex-direction: column;align-items: center;background-color: white;padding-right: 0.2em;padding-left: 0.2em;position: relative;}#sk-container-id-1 div.sk-item {position: relative;z-index: 1;}#sk-container-id-1 div.sk-parallel {display: flex;align-items: stretch;justify-content: center;background-color: white;position: relative;}#sk-container-id-1 div.sk-item::before, #sk-container-id-1 div.sk-parallel-item::before {content: \"\";position: absolute;border-left: 1px solid gray;box-sizing: border-box;top: 0;bottom: 0;left: 50%;z-index: -1;}#sk-container-id-1 div.sk-parallel-item {display: flex;flex-direction: column;z-index: 1;position: relative;background-color: white;}#sk-container-id-1 div.sk-parallel-item:first-child::after {align-self: flex-end;width: 50%;}#sk-container-id-1 div.sk-parallel-item:last-child::after {align-self: flex-start;width: 50%;}#sk-container-id-1 div.sk-parallel-item:only-child::after {width: 0;}#sk-container-id-1 div.sk-dashed-wrapped {border: 1px dashed gray;margin: 0 0.4em 0.5em 0.4em;box-sizing: border-box;padding-bottom: 0.4em;background-color: white;}#sk-container-id-1 div.sk-label label {font-family: monospace;font-weight: bold;display: inline-block;line-height: 1.2em;}#sk-container-id-1 div.sk-label-container {text-align: center;}#sk-container-id-1 div.sk-container {/* jupyter's `normalize.less` sets `[hidden] { display: none; }` but bootstrap.min.css set `[hidden] { display: none !important; }` so we also need the `!important` here to be able to override the default hidden behavior on the sphinx rendered scikit-learn.org. See: https://github.com/scikit-learn/scikit-learn/issues/21755 */display: inline-block !important;position: relative;}#sk-container-id-1 div.sk-text-repr-fallback {display: none;}</style><div id=\"sk-container-id-1\" class=\"sk-top-container\"><div class=\"sk-text-repr-fallback\"><pre>GradientBoostingClassifier()</pre><b>In a Jupyter environment, please rerun this cell to show the HTML representation or trust the notebook. <br />On GitHub, the HTML representation is unable to render, please try loading this page with nbviewer.org.</b></div><div class=\"sk-container\" hidden><div class=\"sk-item\"><div class=\"sk-estimator sk-toggleable\"><input class=\"sk-toggleable__control sk-hidden--visually\" id=\"sk-estimator-id-1\" type=\"checkbox\" checked><label for=\"sk-estimator-id-1\" class=\"sk-toggleable__label sk-toggleable__label-arrow\">GradientBoostingClassifier</label><div class=\"sk-toggleable__content\"><pre>GradientBoostingClassifier()</pre></div></div></div></div></div>"
     },
     "execution_count": 16,
     "metadata": {},
     "output_type": "execute_result"
    }
   ],
   "source": [
    "gb = GradientBoostingClassifier()\n",
    "gb.fit(X_train_resampled, y_train_resampled)"
   ],
   "metadata": {
    "collapsed": false,
    "ExecuteTime": {
     "start_time": "2023-04-12T12:33:03.106619Z",
     "end_time": "2023-04-12T12:42:07.134084Z"
    }
   }
  },
  {
   "cell_type": "code",
   "execution_count": 17,
   "outputs": [],
   "source": [
    "predict = gb.predict(X_test)"
   ],
   "metadata": {
    "collapsed": false,
    "ExecuteTime": {
     "start_time": "2023-04-12T12:42:07.134444Z",
     "end_time": "2023-04-12T12:42:07.843557Z"
    }
   }
  },
  {
   "cell_type": "code",
   "execution_count": 18,
   "outputs": [
    {
     "name": "stdout",
     "output_type": "stream",
     "text": [
      ">>> Confusion matrix:\n",
      " [[545240   8334]\n",
      " [   329   1816]]\n",
      "\n",
      ">>> Classification report:\n",
      "               precision    recall  f1-score   support\n",
      "\n",
      "           0       1.00      0.98      0.99    553574\n",
      "           1       0.18      0.85      0.30      2145\n",
      "\n",
      "    accuracy                           0.98    555719\n",
      "   macro avg       0.59      0.92      0.64    555719\n",
      "weighted avg       1.00      0.98      0.99    555719\n",
      "\n",
      "\n",
      ">>> ROC-AUC:\t 0.9157825744052699\n"
     ]
    }
   ],
   "source": [
    "print('>>> Confusion matrix:\\n', confusion_matrix(y_test, predict), end='\\n\\n')\n",
    "print('>>> Classification report:\\n', classification_report(y_test, predict), end='\\n\\n')\n",
    "print('>>> ROC-AUC:\\t', roc_auc_score(y_test, predict))"
   ],
   "metadata": {
    "collapsed": false,
    "ExecuteTime": {
     "start_time": "2023-04-12T12:42:07.886679Z",
     "end_time": "2023-04-12T12:42:08.359417Z"
    }
   }
  }
 ],
 "metadata": {
  "kernelspec": {
   "display_name": "Python 3",
   "language": "python",
   "name": "python3"
  },
  "language_info": {
   "codemirror_mode": {
    "name": "ipython",
    "version": 2
   },
   "file_extension": ".py",
   "mimetype": "text/x-python",
   "name": "python",
   "nbconvert_exporter": "python",
   "pygments_lexer": "ipython2",
   "version": "2.7.6"
  }
 },
 "nbformat": 4,
 "nbformat_minor": 0
}
