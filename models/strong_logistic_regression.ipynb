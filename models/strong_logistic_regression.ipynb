{
 "cells": [
  {
   "cell_type": "markdown",
   "source": [
    "Чтобы решить проблему несбалансированных классов в нашем анализе обнаружения мошенничества, нам необходимо учитывать не только точность нашей модели, но и её отзыв, который измеряет, насколько часто модель правильно предсказывает мошенничество, когда оно действительно происходит.\n",
    "\n",
    "Одним из способов улучшить запоминание является использование методов случайной выборки, таких как избыточная и недостаточная дискретизация. Избыточная выборка включает дублирование выборок из класса меньшинства, в то время как недостаточная выборка включает удаление выборок из класса большинства. Однако оба подхода имеют свои недостатки: избыточная дискретизация потенциально приводит к переобучению, а недостаточная – к потере важной информации."
   ],
   "metadata": {
    "collapsed": false
   }
  },
  {
   "cell_type": "markdown",
   "source": [
    "## 0. Import libraries"
   ],
   "metadata": {
    "collapsed": false
   }
  },
  {
   "cell_type": "code",
   "execution_count": 54,
   "outputs": [],
   "source": [
    "import pandas as pd\n",
    "import numpy as np\n",
    "import matplotlib.pyplot as plt\n",
    "import seaborn as sns\n",
    "import sklearn.preprocessing as preprocessing\n",
    "from sklearn import linear_model\n",
    "from sklearn.model_selection import cross_validate\n",
    "import sklearn.model_selection\n",
    "from sklearn import svm\n",
    "from sklearn.ensemble import RandomForestClassifier\n",
    "from sklearn.ensemble import GradientBoostingClassifier\n",
    "from sklearn.model_selection import learning_curve\n",
    "from sklearn.metrics import explained_variance_score\n",
    "from sklearn.feature_extraction import DictVectorizer\n",
    "from sklearn.model_selection import train_test_split\n",
    "from sklearn.metrics import confusion_matrix, accuracy_score, classification_report\n",
    "from sklearn import metrics\n",
    "from sklearn.feature_selection import RFE"
   ],
   "metadata": {
    "collapsed": false,
    "ExecuteTime": {
     "start_time": "2023-04-10T19:24:07.736139Z",
     "end_time": "2023-04-10T19:24:07.922108Z"
    }
   }
  },
  {
   "cell_type": "markdown",
   "source": [
    "## 1. Data preporation"
   ],
   "metadata": {
    "collapsed": false
   }
  },
  {
   "cell_type": "code",
   "execution_count": 55,
   "outputs": [],
   "source": [
    "df_train = pd.read_csv('../datasets/train_features.csv')\n",
    "df_test = pd.read_csv('../datasets/test_features.csv')\n",
    "\n",
    "df_train.drop(['Unnamed: 0'], axis=1, inplace=True)\n",
    "df_test.drop(['Unnamed: 0'], axis=1, inplace=True)"
   ],
   "metadata": {
    "collapsed": false,
    "ExecuteTime": {
     "start_time": "2023-04-10T19:24:07.750062Z",
     "end_time": "2023-04-10T19:24:09.064253Z"
    }
   }
  },
  {
   "cell_type": "markdown",
   "source": [
    "### 1.1 Categorial Encoding"
   ],
   "metadata": {
    "collapsed": false
   }
  },
  {
   "cell_type": "code",
   "execution_count": 56,
   "outputs": [],
   "source": [
    "categories = ['category', 'merchant', 'state', 'job']"
   ],
   "metadata": {
    "collapsed": false,
    "ExecuteTime": {
     "start_time": "2023-04-10T19:24:09.065765Z",
     "end_time": "2023-04-10T19:24:09.067766Z"
    }
   }
  },
  {
   "cell_type": "markdown",
   "source": [
    "#### 1.1.1 Label Encoding"
   ],
   "metadata": {
    "collapsed": false
   }
  },
  {
   "cell_type": "code",
   "execution_count": 57,
   "outputs": [
    {
     "data": {
      "text/plain": "    age  amount(usd)  hour_of_day  category  merchant  state  city_pop  job  \\\n0  35.0         4.97            0         8       514     27      3495  370   \n1  44.0       107.23            0         4       241     47       149  428   \n2  61.0       220.11            0         0       390     13      4154  307   \n3  56.0        45.00            0         2       360     26      1939  328   \n4  37.0        41.96            0         9       297     45        99  116   \n\n   is_fraud  \n0         0  \n1         0  \n2         0  \n3         0  \n4         0  ",
      "text/html": "<div>\n<style scoped>\n    .dataframe tbody tr th:only-of-type {\n        vertical-align: middle;\n    }\n\n    .dataframe tbody tr th {\n        vertical-align: top;\n    }\n\n    .dataframe thead th {\n        text-align: right;\n    }\n</style>\n<table border=\"1\" class=\"dataframe\">\n  <thead>\n    <tr style=\"text-align: right;\">\n      <th></th>\n      <th>age</th>\n      <th>amount(usd)</th>\n      <th>hour_of_day</th>\n      <th>category</th>\n      <th>merchant</th>\n      <th>state</th>\n      <th>city_pop</th>\n      <th>job</th>\n      <th>is_fraud</th>\n    </tr>\n  </thead>\n  <tbody>\n    <tr>\n      <th>0</th>\n      <td>35.0</td>\n      <td>4.97</td>\n      <td>0</td>\n      <td>8</td>\n      <td>514</td>\n      <td>27</td>\n      <td>3495</td>\n      <td>370</td>\n      <td>0</td>\n    </tr>\n    <tr>\n      <th>1</th>\n      <td>44.0</td>\n      <td>107.23</td>\n      <td>0</td>\n      <td>4</td>\n      <td>241</td>\n      <td>47</td>\n      <td>149</td>\n      <td>428</td>\n      <td>0</td>\n    </tr>\n    <tr>\n      <th>2</th>\n      <td>61.0</td>\n      <td>220.11</td>\n      <td>0</td>\n      <td>0</td>\n      <td>390</td>\n      <td>13</td>\n      <td>4154</td>\n      <td>307</td>\n      <td>0</td>\n    </tr>\n    <tr>\n      <th>3</th>\n      <td>56.0</td>\n      <td>45.00</td>\n      <td>0</td>\n      <td>2</td>\n      <td>360</td>\n      <td>26</td>\n      <td>1939</td>\n      <td>328</td>\n      <td>0</td>\n    </tr>\n    <tr>\n      <th>4</th>\n      <td>37.0</td>\n      <td>41.96</td>\n      <td>0</td>\n      <td>9</td>\n      <td>297</td>\n      <td>45</td>\n      <td>99</td>\n      <td>116</td>\n      <td>0</td>\n    </tr>\n  </tbody>\n</table>\n</div>"
     },
     "execution_count": 57,
     "metadata": {},
     "output_type": "execute_result"
    }
   ],
   "source": [
    "from sklearn.preprocessing import LabelEncoder\n",
    "label_encoder = LabelEncoder()\n",
    "\n",
    "for category in categories:\n",
    "    df_train[category] = label_encoder.fit_transform(df_train[category])\n",
    "    df_test[category] = label_encoder.fit_transform(df_test[category])\n",
    "\n",
    "df_train.head()"
   ],
   "metadata": {
    "collapsed": false,
    "ExecuteTime": {
     "start_time": "2023-04-10T19:24:09.111437Z",
     "end_time": "2023-04-10T19:24:09.992892Z"
    }
   }
  },
  {
   "cell_type": "markdown",
   "source": [
    "### 2. Model preparation"
   ],
   "metadata": {
    "collapsed": false
   }
  },
  {
   "cell_type": "markdown",
   "source": [
    "На этом этапе наша цель – сравнить точность и отзывчивость классификатора с различными методами выборки, включая обычную (без выборки), передискретизацию и недостаточную дискретизацию"
   ],
   "metadata": {
    "collapsed": false
   }
  },
  {
   "cell_type": "markdown",
   "source": [
    "#### 2.1 Train test split"
   ],
   "metadata": {
    "collapsed": false
   }
  },
  {
   "cell_type": "code",
   "execution_count": 58,
   "outputs": [],
   "source": [
    "y_train = df_train['is_fraud'].values\n",
    "X_train = df_train.drop(['is_fraud'], axis='columns').values\n",
    "\n",
    "y_test = df_test['is_fraud'].values\n",
    "X_test = df_test.drop(['is_fraud'], axis='columns').values"
   ],
   "metadata": {
    "collapsed": false,
    "ExecuteTime": {
     "start_time": "2023-04-10T19:24:10.012667Z",
     "end_time": "2023-04-10T19:24:10.086305Z"
    }
   }
  },
  {
   "cell_type": "code",
   "execution_count": 59,
   "outputs": [],
   "source": [
    "# Data preprocessing to transfer all variables into array\n",
    "scaler = preprocessing.StandardScaler()\n",
    "vec = DictVectorizer(sparse=False)"
   ],
   "metadata": {
    "collapsed": false,
    "ExecuteTime": {
     "start_time": "2023-04-10T19:24:10.081301Z",
     "end_time": "2023-04-10T19:24:10.086393Z"
    }
   }
  },
  {
   "cell_type": "code",
   "execution_count": 60,
   "outputs": [],
   "source": [
    "def Data_preprocessing(X, y):\n",
    "    #1. Numerical vars info vector\n",
    "    X_dataFeatureCon = X\n",
    "    X_dictCon = pd.DataFrame(X_dataFeatureCon.T).to_dict().values()\n",
    "\n",
    "    #2. Keep a df of concat before scaling\n",
    "    X_all = X_dataFeatureCon\n",
    "\n",
    "    #3. Vectorizing and scaling the nummerical variablesinto range [-1;1]\n",
    "    X_vec_con = vec.fit_transform(X_dictCon)\n",
    "    X_vec_con = scaler.fit_transform(X_vec_con)\n",
    "    X_vec = X_vec_con\n",
    "\n",
    "    #4. Convert target ino array\n",
    "    y_vec = y\n",
    "\n",
    "    return X_vec, y_vec, X_all"
   ],
   "metadata": {
    "collapsed": false,
    "ExecuteTime": {
     "start_time": "2023-04-10T19:24:10.085692Z",
     "end_time": "2023-04-10T19:24:10.088798Z"
    }
   }
  },
  {
   "cell_type": "code",
   "execution_count": 61,
   "outputs": [],
   "source": [
    "#Apply the Data_preprocessing func on training set and testing set\n",
    "X_train_vec, y_train_vec, X_train_frame = Data_preprocessing(X_train, y_train)\n",
    "X_test_vec, y_test_vec, X_test_frame = Data_preprocessing(X_test, y_test)"
   ],
   "metadata": {
    "collapsed": false,
    "ExecuteTime": {
     "start_time": "2023-04-10T19:24:10.156875Z",
     "end_time": "2023-04-10T19:25:13.143647Z"
    }
   }
  },
  {
   "cell_type": "code",
   "execution_count": 62,
   "outputs": [
    {
     "name": "stdout",
     "output_type": "stream",
     "text": [
      "X train shape is: (1296675, 8)\n",
      "X train DataFrame shape is: (1296675, 8)\n",
      "y train shape is: (1296675,)\n",
      "X test shape is: (555719, 8)\n",
      "X test DataFrame shape is: (555719, 8)\n",
      "y test shape is: (555719,)\n"
     ]
    }
   ],
   "source": [
    "print('X train shape is:', X_train_vec.shape)\n",
    "print('X train DataFrame shape is:', X_train_frame.shape)\n",
    "print('y train shape is:', y_train_vec.shape)\n",
    "print('X test shape is:', X_test_vec.shape)\n",
    "print('X test DataFrame shape is:', X_test_frame.shape)\n",
    "print('y test shape is:', y_test_vec.shape)"
   ],
   "metadata": {
    "collapsed": false,
    "ExecuteTime": {
     "start_time": "2023-04-10T19:25:13.186468Z",
     "end_time": "2023-04-10T19:25:13.187393Z"
    }
   }
  },
  {
   "cell_type": "markdown",
   "source": [
    "Затем мы применяем подход с недостаточной и избыточной выборками для создания двух новых наборов данных для моделирования. Концепция заключается в том, что мы можем использовать умеренную передискретизацию для класса меньшинства, что улучшает предвзятость к примерам класса меньшинства. В то же время мы также выполняем значительную заниженную выборку в классе большинства, чтобы уменьшить смещение в примерах класса большинства."
   ],
   "metadata": {
    "collapsed": false
   }
  },
  {
   "cell_type": "markdown",
   "source": [
    "### 2.2 Under sampling and Over sampling"
   ],
   "metadata": {
    "collapsed": false
   }
  },
  {
   "cell_type": "code",
   "execution_count": 63,
   "outputs": [
    {
     "name": "stdout",
     "output_type": "stream",
     "text": [
      "1289169\n",
      "7506\n"
     ]
    }
   ],
   "source": [
    "# Under sampling and Over sampling\n",
    "\n",
    "df_all = df_train\n",
    "df_target = df_train['is_fraud']\n",
    "\n",
    "# 1. Create counts\n",
    "count_class_0, count_class_1 = df_target.value_counts()\n",
    "print(count_class_0)\n",
    "print(count_class_1)\n",
    "\n",
    "df_class_0 = df_all[df_all['is_fraud'] == 0]\n",
    "df_class_1 = df_all[df_all['is_fraud'] == 1]"
   ],
   "metadata": {
    "collapsed": false,
    "ExecuteTime": {
     "start_time": "2023-04-10T19:25:13.186544Z",
     "end_time": "2023-04-10T19:25:13.241389Z"
    }
   }
  },
  {
   "cell_type": "code",
   "execution_count": 64,
   "outputs": [
    {
     "name": "stdout",
     "output_type": "stream",
     "text": [
      "Random under-sampling:\n",
      "0    7506\n",
      "1    7506\n",
      "Name: is_fraud, dtype: int64\n"
     ]
    },
    {
     "data": {
      "text/plain": "<AxesSubplot: title={'center': 'Count(target)'}>"
     },
     "execution_count": 64,
     "metadata": {},
     "output_type": "execute_result"
    },
    {
     "data": {
      "text/plain": "<Figure size 640x480 with 1 Axes>",
      "image/png": "[encoded data removed]"
     },
     "metadata": {},
     "output_type": "display_data"
    }
   ],
   "source": [
    "#2. Under sampling\n",
    "df_class_0_under = df_class_0.sample(count_class_1)\n",
    "df_test_under = pd.concat([df_class_0_under, df_class_1], axis=0)\n",
    "\n",
    "print('Random under-sampling:')\n",
    "print(df_test_under['is_fraud'].value_counts())\n",
    "\n",
    "df_test_under['is_fraud'].value_counts().plot(kind='bar', title='Count(target)')"
   ],
   "metadata": {
    "collapsed": false,
    "ExecuteTime": {
     "start_time": "2023-04-10T19:25:13.231571Z",
     "end_time": "2023-04-10T19:25:13.404342Z"
    }
   }
  },
  {
   "cell_type": "code",
   "execution_count": 65,
   "outputs": [
    {
     "name": "stdout",
     "output_type": "stream",
     "text": [
      "Random over-sampling:\n",
      "0    1289169\n",
      "1    1289169\n",
      "Name: is_fraud, dtype: int64\n"
     ]
    },
    {
     "data": {
      "text/plain": "<AxesSubplot: title={'center': 'Count(target)'}>"
     },
     "execution_count": 65,
     "metadata": {},
     "output_type": "execute_result"
    },
    {
     "data": {
      "text/plain": "<Figure size 640x480 with 1 Axes>",
      "image/png": "[encoded data removed]"
     },
     "metadata": {},
     "output_type": "display_data"
    }
   ],
   "source": [
    "# 3. Over sampling\n",
    "df_class_1_over = df_class_1.sample(count_class_0, replace=True)\n",
    "df_test_over = pd.concat([df_class_0, df_class_1_over], axis=0)\n",
    "\n",
    "print('Random over-sampling:')\n",
    "print(df_test_over['is_fraud'].value_counts())\n",
    "\n",
    "df_test_over['is_fraud'].value_counts().plot(kind='bar', title='Count(target)')"
   ],
   "metadata": {
    "collapsed": false,
    "ExecuteTime": {
     "start_time": "2023-04-10T19:25:13.400527Z",
     "end_time": "2023-04-10T19:25:13.632631Z"
    }
   }
  },
  {
   "cell_type": "markdown",
   "source": [
    "Теперь мы приступим к обучению наших моделей. Мы не будем передавать никаких параметров LogisticRegression() и примем параметры по умолчанию. Однако важно знать некоторые из важнейших параметров:\n",
    "\n",
    "penalty: По умолчанию = L2 — задает норму для штрафа\n",
    "C: Default = 1.0 — Обратная сила регуляризации\n",
    "solver: Default = ‘lbfgs’ — Алгоритм оптимизации.\n",
    "Вот реализация кода для обучения и тестирования моделей логистической регрессии.\n",
    "\n",
    "Модель 1 — без какой-либо выборки с параметрами по умолчанию в логистической регрессии:"
   ],
   "metadata": {
    "collapsed": false
   }
  },
  {
   "cell_type": "markdown",
   "source": [
    "### 3. Modeling"
   ],
   "metadata": {
    "collapsed": false
   }
  },
  {
   "cell_type": "markdown",
   "source": [
    "#### 3.1 Simple log regresion"
   ],
   "metadata": {
    "collapsed": false
   }
  },
  {
   "cell_type": "code",
   "execution_count": 66,
   "outputs": [
    {
     "data": {
      "text/plain": "LogisticRegression(tol=1e-06)",
      "text/html": "<style>#sk-container-id-4 {color: black;background-color: white;}#sk-container-id-4 pre{padding: 0;}#sk-container-id-4 div.sk-toggleable {background-color: white;}#sk-container-id-4 label.sk-toggleable__label {cursor: pointer;display: block;width: 100%;margin-bottom: 0;padding: 0.3em;box-sizing: border-box;text-align: center;}#sk-container-id-4 label.sk-toggleable__label-arrow:before {content: \"▸\";float: left;margin-right: 0.25em;color: #696969;}#sk-container-id-4 label.sk-toggleable__label-arrow:hover:before {color: black;}#sk-container-id-4 div.sk-estimator:hover label.sk-toggleable__label-arrow:before {color: black;}#sk-container-id-4 div.sk-toggleable__content {max-height: 0;max-width: 0;overflow: hidden;text-align: left;background-color: #f0f8ff;}#sk-container-id-4 div.sk-toggleable__content pre {margin: 0.2em;color: black;border-radius: 0.25em;background-color: #f0f8ff;}#sk-container-id-4 input.sk-toggleable__control:checked~div.sk-toggleable__content {max-height: 200px;max-width: 100%;overflow: auto;}#sk-container-id-4 input.sk-toggleable__control:checked~label.sk-toggleable__label-arrow:before {content: \"▾\";}#sk-container-id-4 div.sk-estimator input.sk-toggleable__control:checked~label.sk-toggleable__label {background-color: #d4ebff;}#sk-container-id-4 div.sk-label input.sk-toggleable__control:checked~label.sk-toggleable__label {background-color: #d4ebff;}#sk-container-id-4 input.sk-hidden--visually {border: 0;clip: rect(1px 1px 1px 1px);clip: rect(1px, 1px, 1px, 1px);height: 1px;margin: -1px;overflow: hidden;padding: 0;position: absolute;width: 1px;}#sk-container-id-4 div.sk-estimator {font-family: monospace;background-color: #f0f8ff;border: 1px dotted black;border-radius: 0.25em;box-sizing: border-box;margin-bottom: 0.5em;}#sk-container-id-4 div.sk-estimator:hover {background-color: #d4ebff;}#sk-container-id-4 div.sk-parallel-item::after {content: \"\";width: 100%;border-bottom: 1px solid gray;flex-grow: 1;}#sk-container-id-4 div.sk-label:hover label.sk-toggleable__label {background-color: #d4ebff;}#sk-container-id-4 div.sk-serial::before {content: \"\";position: absolute;border-left: 1px solid gray;box-sizing: border-box;top: 0;bottom: 0;left: 50%;z-index: 0;}#sk-container-id-4 div.sk-serial {display: flex;flex-direction: column;align-items: center;background-color: white;padding-right: 0.2em;padding-left: 0.2em;position: relative;}#sk-container-id-4 div.sk-item {position: relative;z-index: 1;}#sk-container-id-4 div.sk-parallel {display: flex;align-items: stretch;justify-content: center;background-color: white;position: relative;}#sk-container-id-4 div.sk-item::before, #sk-container-id-4 div.sk-parallel-item::before {content: \"\";position: absolute;border-left: 1px solid gray;box-sizing: border-box;top: 0;bottom: 0;left: 50%;z-index: -1;}#sk-container-id-4 div.sk-parallel-item {display: flex;flex-direction: column;z-index: 1;position: relative;background-color: white;}#sk-container-id-4 div.sk-parallel-item:first-child::after {align-self: flex-end;width: 50%;}#sk-container-id-4 div.sk-parallel-item:last-child::after {align-self: flex-start;width: 50%;}#sk-container-id-4 div.sk-parallel-item:only-child::after {width: 0;}#sk-container-id-4 div.sk-dashed-wrapped {border: 1px dashed gray;margin: 0 0.4em 0.5em 0.4em;box-sizing: border-box;padding-bottom: 0.4em;background-color: white;}#sk-container-id-4 div.sk-label label {font-family: monospace;font-weight: bold;display: inline-block;line-height: 1.2em;}#sk-container-id-4 div.sk-label-container {text-align: center;}#sk-container-id-4 div.sk-container {/* jupyter's `normalize.less` sets `[hidden] { display: none; }` but bootstrap.min.css set `[hidden] { display: none !important; }` so we also need the `!important` here to be able to override the default hidden behavior on the sphinx rendered scikit-learn.org. See: https://github.com/scikit-learn/scikit-learn/issues/21755 */display: inline-block !important;position: relative;}#sk-container-id-4 div.sk-text-repr-fallback {display: none;}</style><div id=\"sk-container-id-4\" class=\"sk-top-container\"><div class=\"sk-text-repr-fallback\"><pre>LogisticRegression(tol=1e-06)</pre><b>In a Jupyter environment, please rerun this cell to show the HTML representation or trust the notebook. <br />On GitHub, the HTML representation is unable to render, please try loading this page with nbviewer.org.</b></div><div class=\"sk-container\" hidden><div class=\"sk-item\"><div class=\"sk-estimator sk-toggleable\"><input class=\"sk-toggleable__control sk-hidden--visually\" id=\"sk-estimator-id-4\" type=\"checkbox\" checked><label for=\"sk-estimator-id-4\" class=\"sk-toggleable__label sk-toggleable__label-arrow\">LogisticRegression</label><div class=\"sk-toggleable__content\"><pre>LogisticRegression(tol=1e-06)</pre></div></div></div></div></div>"
     },
     "execution_count": 66,
     "metadata": {},
     "output_type": "execute_result"
    }
   ],
   "source": [
    "# Model 1\n",
    "# 1. Model parameters\n",
    "model1 = linear_model.LogisticRegression(C=1.0, penalty='l2', tol=1e-6)\n",
    "model1.fit(X_train_vec, y_train_vec)"
   ],
   "metadata": {
    "collapsed": false,
    "ExecuteTime": {
     "start_time": "2023-04-10T19:25:13.631367Z",
     "end_time": "2023-04-10T19:25:14.395700Z"
    }
   }
  },
  {
   "cell_type": "code",
   "execution_count": 67,
   "outputs": [
    {
     "name": "stdout",
     "output_type": "stream",
     "text": [
      "99.54761309222827\n"
     ]
    }
   ],
   "source": [
    "#2. Accuracy score on testing set\n",
    "y_pred = model1.predict(X_test_vec)\n",
    "accuracy = accuracy_score(y_test_vec, y_pred)\n",
    "print(accuracy*100)"
   ],
   "metadata": {
    "collapsed": false,
    "ExecuteTime": {
     "start_time": "2023-04-10T19:25:14.399395Z",
     "end_time": "2023-04-10T19:25:14.509872Z"
    }
   }
  },
  {
   "cell_type": "code",
   "execution_count": 68,
   "outputs": [
    {
     "name": "stdout",
     "output_type": "stream",
     "text": [
      "Confusion matrix:\n",
      " [[553205    369]\n",
      " [  2145      0]]\n"
     ]
    }
   ],
   "source": [
    "#3. Confusion matrix\n",
    "conf_mat = confusion_matrix(y_true=y_test_vec, y_pred=y_pred)\n",
    "print('Confusion matrix:\\n', conf_mat)"
   ],
   "metadata": {
    "collapsed": false,
    "ExecuteTime": {
     "start_time": "2023-04-10T19:25:14.507051Z",
     "end_time": "2023-04-10T19:25:14.583185Z"
    }
   }
  },
  {
   "cell_type": "code",
   "execution_count": 69,
   "outputs": [
    {
     "name": "stdout",
     "output_type": "stream",
     "text": [
      "              precision    recall  f1-score   support\n",
      "\n",
      "           0       1.00      1.00      1.00    553574\n",
      "           1       0.00      0.00      0.00      2145\n",
      "\n",
      "    accuracy                           1.00    555719\n",
      "   macro avg       0.50      0.50      0.50    555719\n",
      "weighted avg       0.99      1.00      0.99    555719\n",
      "\n"
     ]
    }
   ],
   "source": [
    "#4. Classification report\n",
    "report = classification_report(y_test_vec, y_pred)\n",
    "print(report)"
   ],
   "metadata": {
    "collapsed": false,
    "ExecuteTime": {
     "start_time": "2023-04-10T19:25:14.575686Z",
     "end_time": "2023-04-10T19:25:14.992139Z"
    }
   }
  },
  {
   "cell_type": "markdown",
   "source": [
    "#### 3.2 Strong reg"
   ],
   "metadata": {
    "collapsed": false
   }
  },
  {
   "cell_type": "code",
   "execution_count": 70,
   "outputs": [
    {
     "name": "stdout",
     "output_type": "stream",
     "text": [
      "(12009, 9)\n",
      "(3003, 9)\n",
      "(12009,)\n",
      "(3003,)\n",
      "X train shape is: (12009, 9)\n",
      "y train shape is: (12009,)\n",
      "X test shape is: (3003, 9)\n",
      "y test shape is: (3003,)\n"
     ]
    }
   ],
   "source": [
    "# Model2\n",
    "#1. Get under sampling training set and testing set\n",
    "df_u = df_test_under\n",
    "df_u_target = df_u['is_fraud']\n",
    "X_train_under, X_test_under, y_train_under, y_test_under = train_test_split(df_u, df_u_target, test_size=0.2)\n",
    "\n",
    "print(X_train_under.shape)\n",
    "print(X_test_under.shape)\n",
    "print(y_train_under.shape)\n",
    "print(y_test_under.shape)\n",
    "\n",
    "X_train_under_vec, y_train_under_vec, X_train_under_frame = Data_preprocessing(X_train_under, y_train_under)\n",
    "X_test_under_vec, y_test_under_vec, X_test_under_frame = Data_preprocessing(X_test_under, y_test_under)\n",
    "\n",
    "print('X train shape is:', X_train_under_vec.shape)\n",
    "print('y train shape is:', y_train_under_vec.shape)\n",
    "print('X test shape is:', X_test_under_vec.shape)\n",
    "print('y test shape is:', y_test_under_vec.shape)"
   ],
   "metadata": {
    "collapsed": false,
    "ExecuteTime": {
     "start_time": "2023-04-10T19:25:14.994570Z",
     "end_time": "2023-04-10T19:25:15.436708Z"
    }
   }
  },
  {
   "cell_type": "code",
   "execution_count": 71,
   "outputs": [
    {
     "data": {
      "text/plain": "LogisticRegression(tol=1e-06)",
      "text/html": "<style>#sk-container-id-5 {color: black;background-color: white;}#sk-container-id-5 pre{padding: 0;}#sk-container-id-5 div.sk-toggleable {background-color: white;}#sk-container-id-5 label.sk-toggleable__label {cursor: pointer;display: block;width: 100%;margin-bottom: 0;padding: 0.3em;box-sizing: border-box;text-align: center;}#sk-container-id-5 label.sk-toggleable__label-arrow:before {content: \"▸\";float: left;margin-right: 0.25em;color: #696969;}#sk-container-id-5 label.sk-toggleable__label-arrow:hover:before {color: black;}#sk-container-id-5 div.sk-estimator:hover label.sk-toggleable__label-arrow:before {color: black;}#sk-container-id-5 div.sk-toggleable__content {max-height: 0;max-width: 0;overflow: hidden;text-align: left;background-color: #f0f8ff;}#sk-container-id-5 div.sk-toggleable__content pre {margin: 0.2em;color: black;border-radius: 0.25em;background-color: #f0f8ff;}#sk-container-id-5 input.sk-toggleable__control:checked~div.sk-toggleable__content {max-height: 200px;max-width: 100%;overflow: auto;}#sk-container-id-5 input.sk-toggleable__control:checked~label.sk-toggleable__label-arrow:before {content: \"▾\";}#sk-container-id-5 div.sk-estimator input.sk-toggleable__control:checked~label.sk-toggleable__label {background-color: #d4ebff;}#sk-container-id-5 div.sk-label input.sk-toggleable__control:checked~label.sk-toggleable__label {background-color: #d4ebff;}#sk-container-id-5 input.sk-hidden--visually {border: 0;clip: rect(1px 1px 1px 1px);clip: rect(1px, 1px, 1px, 1px);height: 1px;margin: -1px;overflow: hidden;padding: 0;position: absolute;width: 1px;}#sk-container-id-5 div.sk-estimator {font-family: monospace;background-color: #f0f8ff;border: 1px dotted black;border-radius: 0.25em;box-sizing: border-box;margin-bottom: 0.5em;}#sk-container-id-5 div.sk-estimator:hover {background-color: #d4ebff;}#sk-container-id-5 div.sk-parallel-item::after {content: \"\";width: 100%;border-bottom: 1px solid gray;flex-grow: 1;}#sk-container-id-5 div.sk-label:hover label.sk-toggleable__label {background-color: #d4ebff;}#sk-container-id-5 div.sk-serial::before {content: \"\";position: absolute;border-left: 1px solid gray;box-sizing: border-box;top: 0;bottom: 0;left: 50%;z-index: 0;}#sk-container-id-5 div.sk-serial {display: flex;flex-direction: column;align-items: center;background-color: white;padding-right: 0.2em;padding-left: 0.2em;position: relative;}#sk-container-id-5 div.sk-item {position: relative;z-index: 1;}#sk-container-id-5 div.sk-parallel {display: flex;align-items: stretch;justify-content: center;background-color: white;position: relative;}#sk-container-id-5 div.sk-item::before, #sk-container-id-5 div.sk-parallel-item::before {content: \"\";position: absolute;border-left: 1px solid gray;box-sizing: border-box;top: 0;bottom: 0;left: 50%;z-index: -1;}#sk-container-id-5 div.sk-parallel-item {display: flex;flex-direction: column;z-index: 1;position: relative;background-color: white;}#sk-container-id-5 div.sk-parallel-item:first-child::after {align-self: flex-end;width: 50%;}#sk-container-id-5 div.sk-parallel-item:last-child::after {align-self: flex-start;width: 50%;}#sk-container-id-5 div.sk-parallel-item:only-child::after {width: 0;}#sk-container-id-5 div.sk-dashed-wrapped {border: 1px dashed gray;margin: 0 0.4em 0.5em 0.4em;box-sizing: border-box;padding-bottom: 0.4em;background-color: white;}#sk-container-id-5 div.sk-label label {font-family: monospace;font-weight: bold;display: inline-block;line-height: 1.2em;}#sk-container-id-5 div.sk-label-container {text-align: center;}#sk-container-id-5 div.sk-container {/* jupyter's `normalize.less` sets `[hidden] { display: none; }` but bootstrap.min.css set `[hidden] { display: none !important; }` so we also need the `!important` here to be able to override the default hidden behavior on the sphinx rendered scikit-learn.org. See: https://github.com/scikit-learn/scikit-learn/issues/21755 */display: inline-block !important;position: relative;}#sk-container-id-5 div.sk-text-repr-fallback {display: none;}</style><div id=\"sk-container-id-5\" class=\"sk-top-container\"><div class=\"sk-text-repr-fallback\"><pre>LogisticRegression(tol=1e-06)</pre><b>In a Jupyter environment, please rerun this cell to show the HTML representation or trust the notebook. <br />On GitHub, the HTML representation is unable to render, please try loading this page with nbviewer.org.</b></div><div class=\"sk-container\" hidden><div class=\"sk-item\"><div class=\"sk-estimator sk-toggleable\"><input class=\"sk-toggleable__control sk-hidden--visually\" id=\"sk-estimator-id-5\" type=\"checkbox\" checked><label for=\"sk-estimator-id-5\" class=\"sk-toggleable__label sk-toggleable__label-arrow\">LogisticRegression</label><div class=\"sk-toggleable__content\"><pre>LogisticRegression(tol=1e-06)</pre></div></div></div></div></div>"
     },
     "execution_count": 71,
     "metadata": {},
     "output_type": "execute_result"
    }
   ],
   "source": [
    "#2. Model parameters\n",
    "model2 = linear_model.LogisticRegression(C=1.0, penalty='l2', tol=1e-6)\n",
    "model2.fit(X_train_under_vec, y_train_under_vec)"
   ],
   "metadata": {
    "collapsed": false,
    "ExecuteTime": {
     "start_time": "2023-04-10T19:25:15.437615Z",
     "end_time": "2023-04-10T19:25:15.478203Z"
    }
   }
  },
  {
   "cell_type": "code",
   "execution_count": 72,
   "outputs": [
    {
     "name": "stdout",
     "output_type": "stream",
     "text": [
      "1.0\n"
     ]
    }
   ],
   "source": [
    "y_pred = model2.predict(X_test_under_vec)\n",
    "accuracy = accuracy_score(y_test_under_vec, y_pred)\n",
    "print(accuracy)"
   ],
   "metadata": {
    "collapsed": false,
    "ExecuteTime": {
     "start_time": "2023-04-10T19:25:15.455080Z",
     "end_time": "2023-04-10T19:25:15.479298Z"
    }
   }
  },
  {
   "cell_type": "code",
   "execution_count": 73,
   "outputs": [
    {
     "name": "stdout",
     "output_type": "stream",
     "text": [
      "[[1489    0]\n",
      " [   0 1514]]\n"
     ]
    }
   ],
   "source": [
    "print(confusion_matrix(y_test_under_vec, y_pred))"
   ],
   "metadata": {
    "collapsed": false,
    "ExecuteTime": {
     "start_time": "2023-04-10T19:25:15.466280Z",
     "end_time": "2023-04-10T19:25:15.479457Z"
    }
   }
  },
  {
   "cell_type": "code",
   "execution_count": 74,
   "outputs": [
    {
     "name": "stdout",
     "output_type": "stream",
     "text": [
      "              precision    recall  f1-score   support\n",
      "\n",
      "           0       1.00      1.00      1.00      1489\n",
      "           1       1.00      1.00      1.00      1514\n",
      "\n",
      "    accuracy                           1.00      3003\n",
      "   macro avg       1.00      1.00      1.00      3003\n",
      "weighted avg       1.00      1.00      1.00      3003\n",
      "\n"
     ]
    }
   ],
   "source": [
    "print(classification_report(y_test_under_vec, y_pred))"
   ],
   "metadata": {
    "collapsed": false,
    "ExecuteTime": {
     "start_time": "2023-04-10T19:25:15.472367Z",
     "end_time": "2023-04-10T19:25:15.525533Z"
    }
   }
  },
  {
   "cell_type": "markdown",
   "source": [
    "Over"
   ],
   "metadata": {
    "collapsed": false
   }
  },
  {
   "cell_type": "code",
   "execution_count": 75,
   "outputs": [
    {
     "ename": "ValueError",
     "evalue": "Found input variables with inconsistent numbers of samples: [2578338, 15012]",
     "output_type": "error",
     "traceback": [
      "\u001B[0;31m---------------------------------------------------------------------------\u001B[0m",
      "\u001B[0;31mValueError\u001B[0m                                Traceback (most recent call last)",
      "Cell \u001B[0;32mIn [75], line 5\u001B[0m\n\u001B[1;32m      3\u001B[0m df_u_target \u001B[38;5;241m=\u001B[39m df_u[\u001B[38;5;124m'\u001B[39m\u001B[38;5;124mis_fraud\u001B[39m\u001B[38;5;124m'\u001B[39m]\n\u001B[1;32m      4\u001B[0m df_u \u001B[38;5;241m=\u001B[39m df_test_over\u001B[38;5;241m.\u001B[39mdrop([\u001B[38;5;124m'\u001B[39m\u001B[38;5;124mis_fraud\u001B[39m\u001B[38;5;124m'\u001B[39m], axis\u001B[38;5;241m=\u001B[39m\u001B[38;5;241m1\u001B[39m)\n\u001B[0;32m----> 5\u001B[0m X_train_over, X_test_over, y_train_over, y_test_over \u001B[38;5;241m=\u001B[39m \u001B[43mtrain_test_split\u001B[49m\u001B[43m(\u001B[49m\u001B[43mdf_u\u001B[49m\u001B[43m,\u001B[49m\u001B[43m \u001B[49m\u001B[43mdf_u_target\u001B[49m\u001B[43m,\u001B[49m\u001B[43m \u001B[49m\u001B[43mtest_size\u001B[49m\u001B[38;5;241;43m=\u001B[39;49m\u001B[38;5;241;43m0.2\u001B[39;49m\u001B[43m)\u001B[49m\n\u001B[1;32m      7\u001B[0m \u001B[38;5;28mprint\u001B[39m(X_train_over\u001B[38;5;241m.\u001B[39mshape)\n\u001B[1;32m      8\u001B[0m \u001B[38;5;28mprint\u001B[39m(X_test_over\u001B[38;5;241m.\u001B[39mshape)\n",
      "File \u001B[0;32m~/Programming/Python/fraud/venv/lib/python3.9/site-packages/sklearn/model_selection/_split.py:2559\u001B[0m, in \u001B[0;36mtrain_test_split\u001B[0;34m(test_size, train_size, random_state, shuffle, stratify, *arrays)\u001B[0m\n\u001B[1;32m   2556\u001B[0m \u001B[38;5;28;01mif\u001B[39;00m n_arrays \u001B[38;5;241m==\u001B[39m \u001B[38;5;241m0\u001B[39m:\n\u001B[1;32m   2557\u001B[0m     \u001B[38;5;28;01mraise\u001B[39;00m \u001B[38;5;167;01mValueError\u001B[39;00m(\u001B[38;5;124m\"\u001B[39m\u001B[38;5;124mAt least one array required as input\u001B[39m\u001B[38;5;124m\"\u001B[39m)\n\u001B[0;32m-> 2559\u001B[0m arrays \u001B[38;5;241m=\u001B[39m \u001B[43mindexable\u001B[49m\u001B[43m(\u001B[49m\u001B[38;5;241;43m*\u001B[39;49m\u001B[43marrays\u001B[49m\u001B[43m)\u001B[49m\n\u001B[1;32m   2561\u001B[0m n_samples \u001B[38;5;241m=\u001B[39m _num_samples(arrays[\u001B[38;5;241m0\u001B[39m])\n\u001B[1;32m   2562\u001B[0m n_train, n_test \u001B[38;5;241m=\u001B[39m _validate_shuffle_split(\n\u001B[1;32m   2563\u001B[0m     n_samples, test_size, train_size, default_test_size\u001B[38;5;241m=\u001B[39m\u001B[38;5;241m0.25\u001B[39m\n\u001B[1;32m   2564\u001B[0m )\n",
      "File \u001B[0;32m~/Programming/Python/fraud/venv/lib/python3.9/site-packages/sklearn/utils/validation.py:443\u001B[0m, in \u001B[0;36mindexable\u001B[0;34m(*iterables)\u001B[0m\n\u001B[1;32m    424\u001B[0m \u001B[38;5;124;03m\"\"\"Make arrays indexable for cross-validation.\u001B[39;00m\n\u001B[1;32m    425\u001B[0m \n\u001B[1;32m    426\u001B[0m \u001B[38;5;124;03mChecks consistent length, passes through None, and ensures that everything\u001B[39;00m\n\u001B[0;32m   (...)\u001B[0m\n\u001B[1;32m    439\u001B[0m \u001B[38;5;124;03m    sparse matrix, or dataframe) or `None`.\u001B[39;00m\n\u001B[1;32m    440\u001B[0m \u001B[38;5;124;03m\"\"\"\u001B[39;00m\n\u001B[1;32m    442\u001B[0m result \u001B[38;5;241m=\u001B[39m [_make_indexable(X) \u001B[38;5;28;01mfor\u001B[39;00m X \u001B[38;5;129;01min\u001B[39;00m iterables]\n\u001B[0;32m--> 443\u001B[0m \u001B[43mcheck_consistent_length\u001B[49m\u001B[43m(\u001B[49m\u001B[38;5;241;43m*\u001B[39;49m\u001B[43mresult\u001B[49m\u001B[43m)\u001B[49m\n\u001B[1;32m    444\u001B[0m \u001B[38;5;28;01mreturn\u001B[39;00m result\n",
      "File \u001B[0;32m~/Programming/Python/fraud/venv/lib/python3.9/site-packages/sklearn/utils/validation.py:397\u001B[0m, in \u001B[0;36mcheck_consistent_length\u001B[0;34m(*arrays)\u001B[0m\n\u001B[1;32m    395\u001B[0m uniques \u001B[38;5;241m=\u001B[39m np\u001B[38;5;241m.\u001B[39munique(lengths)\n\u001B[1;32m    396\u001B[0m \u001B[38;5;28;01mif\u001B[39;00m \u001B[38;5;28mlen\u001B[39m(uniques) \u001B[38;5;241m>\u001B[39m \u001B[38;5;241m1\u001B[39m:\n\u001B[0;32m--> 397\u001B[0m     \u001B[38;5;28;01mraise\u001B[39;00m \u001B[38;5;167;01mValueError\u001B[39;00m(\n\u001B[1;32m    398\u001B[0m         \u001B[38;5;124m\"\u001B[39m\u001B[38;5;124mFound input variables with inconsistent numbers of samples: \u001B[39m\u001B[38;5;132;01m%r\u001B[39;00m\u001B[38;5;124m\"\u001B[39m\n\u001B[1;32m    399\u001B[0m         \u001B[38;5;241m%\u001B[39m [\u001B[38;5;28mint\u001B[39m(l) \u001B[38;5;28;01mfor\u001B[39;00m l \u001B[38;5;129;01min\u001B[39;00m lengths]\n\u001B[1;32m    400\u001B[0m     )\n",
      "\u001B[0;31mValueError\u001B[0m: Found input variables with inconsistent numbers of samples: [2578338, 15012]"
     ]
    }
   ],
   "source": [
    "# Model2\n",
    "#1. Get under sampling training set and testing set\n",
    "df_u = df_test_over\n",
    "df_u_target = df_u['is_fraud']\n",
    "X_train_over, X_test_over, y_train_over, y_test_over = train_test_split(df_u, df_u_target, test_size=0.2)\n",
    "\n",
    "print(X_train_over.shape)\n",
    "print(X_test_over.shape)\n",
    "print(y_train_over.shape)\n",
    "print(y_test_over.shape)\n",
    "\n",
    "X_train_over_vec, y_train_over_vec, X_train_over_frame = Data_preprocessing(X_train_over, y_train_over)\n",
    "X_test_over_vec, y_test_over_vec, X_test_over_frame = Data_preprocessing(X_test_over, y_test_over)\n",
    "\n",
    "print('X train shape is:', X_train_over_vec.shape)\n",
    "print('y train shape is:', y_train_over_vec.shape)\n",
    "print('X test shape is:', X_test_over_vec.shape)\n",
    "print('y test shape is:', y_test_over_vec.shape)"
   ],
   "metadata": {
    "collapsed": false,
    "ExecuteTime": {
     "start_time": "2023-04-10T19:14:01.233409Z",
     "end_time": "2023-04-10T19:14:56.887512Z"
    }
   }
  },
  {
   "cell_type": "code",
   "execution_count": null,
   "outputs": [],
   "source": [
    "df_test_over"
   ],
   "metadata": {
    "collapsed": false,
    "ExecuteTime": {
     "start_time": "2023-04-10T19:23:07.229112Z",
     "end_time": "2023-04-10T19:23:07.284424Z"
    }
   }
  },
  {
   "cell_type": "code",
   "execution_count": null,
   "outputs": [],
   "source": [],
   "metadata": {
    "collapsed": false
   }
  },
  {
   "cell_type": "code",
   "execution_count": null,
   "outputs": [],
   "source": [],
   "metadata": {
    "collapsed": false
   }
  },
  {
   "cell_type": "code",
   "execution_count": null,
   "outputs": [],
   "source": [
    "#2. Model parameters\n",
    "model2 = linear_model.LogisticRegression(C=1.0, penalty='l2', tol=1e-6)\n",
    "model2.fit(X_train_over_vec, y_train_over_vec)"
   ],
   "metadata": {
    "collapsed": false
   }
  },
  {
   "cell_type": "code",
   "execution_count": null,
   "outputs": [],
   "source": [
    "y_pred = model2.predict(X_test_over_vec)\n",
    "accuracy = accuracy_score(y_test_over_vec, y_pred)\n",
    "print(accuracy)"
   ],
   "metadata": {
    "collapsed": false
   }
  },
  {
   "cell_type": "code",
   "execution_count": null,
   "outputs": [],
   "source": [
    "print(confusion_matrix(y_test_over_vec, y_pred))"
   ],
   "metadata": {
    "collapsed": false
   }
  },
  {
   "cell_type": "code",
   "execution_count": null,
   "outputs": [],
   "source": [
    "print(classification_report(y_test_over_vec, y_pred))"
   ],
   "metadata": {
    "collapsed": false
   }
  }
 ],
 "metadata": {
  "kernelspec": {
   "display_name": "Python 3",
   "language": "python",
   "name": "python3"
  },
  "language_info": {
   "codemirror_mode": {
    "name": "ipython",
    "version": 2
   },
   "file_extension": ".py",
   "mimetype": "text/x-python",
   "name": "python",
   "nbconvert_exporter": "python",
   "pygments_lexer": "ipython2",
   "version": "2.7.6"
  }
 },
 "nbformat": 4,
 "nbformat_minor": 0
}
