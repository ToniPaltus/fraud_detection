{
 "cells": [
  {
   "cell_type": "markdown",
   "source": [
    "## 0. Import libraries"
   ],
   "metadata": {
    "collapsed": false
   }
  },
  {
   "cell_type": "code",
   "execution_count": 32,
   "metadata": {
    "collapsed": true,
    "ExecuteTime": {
     "start_time": "2023-04-12T00:25:56.456315Z",
     "end_time": "2023-04-12T00:25:56.711672Z"
    }
   },
   "outputs": [],
   "source": [
    "import pandas as pd\n",
    "import numpy as np\n",
    "\n",
    "from sklearn.metrics import confusion_matrix, classification_report"
   ]
  },
  {
   "cell_type": "markdown",
   "source": [
    "## 1. Data preparation"
   ],
   "metadata": {
    "collapsed": false
   }
  },
  {
   "cell_type": "code",
   "execution_count": 33,
   "outputs": [],
   "source": [
    "train_features = pd.read_csv('../datasets/train_features.csv')\n",
    "test_features = pd.read_csv('../datasets/test_features.csv')\n",
    "\n",
    "train_features.drop(['Unnamed: 0'], axis=1, inplace=True)\n",
    "test_features.drop(['Unnamed: 0'], axis=1, inplace=True)"
   ],
   "metadata": {
    "collapsed": false,
    "ExecuteTime": {
     "start_time": "2023-04-12T00:25:56.471822Z",
     "end_time": "2023-04-12T00:25:57.727135Z"
    }
   }
  },
  {
   "cell_type": "code",
   "execution_count": 34,
   "outputs": [
    {
     "name": "stdout",
     "output_type": "stream",
     "text": [
      "<class 'pandas.core.frame.DataFrame'>\n",
      "RangeIndex: 1296675 entries, 0 to 1296674\n",
      "Data columns (total 9 columns):\n",
      " #   Column       Non-Null Count    Dtype  \n",
      "---  ------       --------------    -----  \n",
      " 0   age          1296675 non-null  float64\n",
      " 1   amount(usd)  1296675 non-null  float64\n",
      " 2   hour_of_day  1296675 non-null  int64  \n",
      " 3   category     1296675 non-null  object \n",
      " 4   merchant     1296675 non-null  object \n",
      " 5   state        1296675 non-null  object \n",
      " 6   city_pop     1296675 non-null  int64  \n",
      " 7   job          1296675 non-null  object \n",
      " 8   is_fraud     1296675 non-null  int64  \n",
      "dtypes: float64(2), int64(3), object(4)\n",
      "memory usage: 89.0+ MB\n"
     ]
    }
   ],
   "source": [
    "train_features.info()"
   ],
   "metadata": {
    "collapsed": false,
    "ExecuteTime": {
     "start_time": "2023-04-12T00:25:57.769286Z",
     "end_time": "2023-04-12T00:25:58.149523Z"
    }
   }
  },
  {
   "cell_type": "code",
   "execution_count": 35,
   "outputs": [
    {
     "name": "stdout",
     "output_type": "stream",
     "text": [
      "<class 'pandas.core.frame.DataFrame'>\n",
      "RangeIndex: 555719 entries, 0 to 555718\n",
      "Data columns (total 9 columns):\n",
      " #   Column       Non-Null Count   Dtype  \n",
      "---  ------       --------------   -----  \n",
      " 0   age          555719 non-null  float64\n",
      " 1   amount(usd)  555719 non-null  float64\n",
      " 2   hour_of_day  555719 non-null  int64  \n",
      " 3   category     555719 non-null  object \n",
      " 4   merchant     555719 non-null  object \n",
      " 5   state        555719 non-null  object \n",
      " 6   city_pop     555719 non-null  int64  \n",
      " 7   job          555719 non-null  object \n",
      " 8   is_fraud     555719 non-null  int64  \n",
      "dtypes: float64(2), int64(3), object(4)\n",
      "memory usage: 38.2+ MB\n"
     ]
    }
   ],
   "source": [
    "test_features.info()"
   ],
   "metadata": {
    "collapsed": false,
    "ExecuteTime": {
     "start_time": "2023-04-12T00:25:58.148738Z",
     "end_time": "2023-04-12T00:25:58.396286Z"
    }
   }
  },
  {
   "cell_type": "markdown",
   "source": [
    "## 2. Model preparation"
   ],
   "metadata": {
    "collapsed": false
   }
  },
  {
   "cell_type": "markdown",
   "source": [
    "### 2.1 Categorial Encoding"
   ],
   "metadata": {
    "collapsed": false
   }
  },
  {
   "cell_type": "code",
   "execution_count": 36,
   "outputs": [],
   "source": [
    "categories = ['category', 'merchant', 'state', 'job']"
   ],
   "metadata": {
    "collapsed": false,
    "ExecuteTime": {
     "start_time": "2023-04-12T00:25:58.381353Z",
     "end_time": "2023-04-12T00:25:58.396490Z"
    }
   }
  },
  {
   "cell_type": "markdown",
   "source": [
    "#### 2.1.1 Ordinal Encoding"
   ],
   "metadata": {
    "collapsed": false
   }
  },
  {
   "cell_type": "code",
   "execution_count": 37,
   "outputs": [],
   "source": [
    "# from sklearn.preprocessing import OrdinalEncoder\n",
    "# ordinal_encoder = OrdinalEncoder(dtype=np.int64)\n",
    "#\n",
    "# ordinal_encoder.fit(train_features.loc[:, categories])\n",
    "# train_features.loc[:, categories] = ordinal_encoder.transform(train_features[categories])\n",
    "#\n",
    "# ordinal_encoder.fit(test_features.loc[:, categories])\n",
    "# test_features.loc[:, categories] = ordinal_encoder.transform(test_features[categories])\n",
    "#\n",
    "# train_features.head()"
   ],
   "metadata": {
    "collapsed": false,
    "ExecuteTime": {
     "start_time": "2023-04-12T00:25:58.381579Z",
     "end_time": "2023-04-12T00:25:58.396590Z"
    }
   }
  },
  {
   "cell_type": "markdown",
   "source": [
    "#### 2.1.2 Label Encoding"
   ],
   "metadata": {
    "collapsed": false
   }
  },
  {
   "cell_type": "code",
   "execution_count": 38,
   "outputs": [
    {
     "data": {
      "text/plain": "    age  amount(usd)  hour_of_day  category  merchant  state  city_pop  job  \\\n0  35.0         4.97            0         8       514     27      3495  370   \n1  44.0       107.23            0         4       241     47       149  428   \n2  61.0       220.11            0         0       390     13      4154  307   \n3  56.0        45.00            0         2       360     26      1939  328   \n4  37.0        41.96            0         9       297     45        99  116   \n\n   is_fraud  \n0         0  \n1         0  \n2         0  \n3         0  \n4         0  ",
      "text/html": "<div>\n<style scoped>\n    .dataframe tbody tr th:only-of-type {\n        vertical-align: middle;\n    }\n\n    .dataframe tbody tr th {\n        vertical-align: top;\n    }\n\n    .dataframe thead th {\n        text-align: right;\n    }\n</style>\n<table border=\"1\" class=\"dataframe\">\n  <thead>\n    <tr style=\"text-align: right;\">\n      <th></th>\n      <th>age</th>\n      <th>amount(usd)</th>\n      <th>hour_of_day</th>\n      <th>category</th>\n      <th>merchant</th>\n      <th>state</th>\n      <th>city_pop</th>\n      <th>job</th>\n      <th>is_fraud</th>\n    </tr>\n  </thead>\n  <tbody>\n    <tr>\n      <th>0</th>\n      <td>35.0</td>\n      <td>4.97</td>\n      <td>0</td>\n      <td>8</td>\n      <td>514</td>\n      <td>27</td>\n      <td>3495</td>\n      <td>370</td>\n      <td>0</td>\n    </tr>\n    <tr>\n      <th>1</th>\n      <td>44.0</td>\n      <td>107.23</td>\n      <td>0</td>\n      <td>4</td>\n      <td>241</td>\n      <td>47</td>\n      <td>149</td>\n      <td>428</td>\n      <td>0</td>\n    </tr>\n    <tr>\n      <th>2</th>\n      <td>61.0</td>\n      <td>220.11</td>\n      <td>0</td>\n      <td>0</td>\n      <td>390</td>\n      <td>13</td>\n      <td>4154</td>\n      <td>307</td>\n      <td>0</td>\n    </tr>\n    <tr>\n      <th>3</th>\n      <td>56.0</td>\n      <td>45.00</td>\n      <td>0</td>\n      <td>2</td>\n      <td>360</td>\n      <td>26</td>\n      <td>1939</td>\n      <td>328</td>\n      <td>0</td>\n    </tr>\n    <tr>\n      <th>4</th>\n      <td>37.0</td>\n      <td>41.96</td>\n      <td>0</td>\n      <td>9</td>\n      <td>297</td>\n      <td>45</td>\n      <td>99</td>\n      <td>116</td>\n      <td>0</td>\n    </tr>\n  </tbody>\n</table>\n</div>"
     },
     "execution_count": 38,
     "metadata": {},
     "output_type": "execute_result"
    }
   ],
   "source": [
    "from sklearn.preprocessing import LabelEncoder\n",
    "label_encoder = LabelEncoder()\n",
    "\n",
    "for category in categories:\n",
    "    train_features[category] = label_encoder.fit_transform(train_features[category])\n",
    "    test_features[category] = label_encoder.fit_transform(test_features[category])\n",
    "\n",
    "train_features.head()"
   ],
   "metadata": {
    "collapsed": false,
    "ExecuteTime": {
     "start_time": "2023-04-12T00:25:58.425248Z",
     "end_time": "2023-04-12T00:25:59.305212Z"
    }
   }
  },
  {
   "cell_type": "markdown",
   "source": [],
   "metadata": {
    "collapsed": false
   }
  },
  {
   "cell_type": "markdown",
   "source": [
    "#### 2.1.3 Count Encoding"
   ],
   "metadata": {
    "collapsed": false
   }
  },
  {
   "cell_type": "code",
   "execution_count": 39,
   "outputs": [],
   "source": [
    "# from category_encoders import CountEncoder\n",
    "# count_encoder = CountEncoder()\n",
    "#\n",
    "# for category in categories:\n",
    "#     train_features[category] = count_encoder.fit_transform(train_features[category])\n",
    "#     test_features[category] = count_encoder.fit_transform(test_features[category])\n",
    "#\n",
    "# train_features.head()"
   ],
   "metadata": {
    "collapsed": false,
    "ExecuteTime": {
     "start_time": "2023-04-12T00:25:59.302712Z",
     "end_time": "2023-04-12T00:25:59.305565Z"
    }
   }
  },
  {
   "cell_type": "markdown",
   "source": [
    "#### 2.1.4 One-Hot Encoding"
   ],
   "metadata": {
    "collapsed": false
   }
  },
  {
   "cell_type": "markdown",
   "source": [
    "It is too long working"
   ],
   "metadata": {
    "collapsed": false
   }
  },
  {
   "cell_type": "code",
   "execution_count": 40,
   "outputs": [],
   "source": [
    "# train_features = pd.get_dummies(train_features, columns=categories)\n",
    "# test_features = pd.get_dummies(test_features, columns=categories)\n",
    "# train_features"
   ],
   "metadata": {
    "collapsed": false,
    "ExecuteTime": {
     "start_time": "2023-04-12T00:25:59.305090Z",
     "end_time": "2023-04-12T00:25:59.311961Z"
    }
   }
  },
  {
   "cell_type": "markdown",
   "source": [
    "### 2.2 Train-test split"
   ],
   "metadata": {
    "collapsed": false
   }
  },
  {
   "cell_type": "code",
   "execution_count": 41,
   "outputs": [],
   "source": [
    "y_train = train_features['is_fraud'].values\n",
    "X_train = train_features.drop(['is_fraud'], axis='columns').values\n",
    "\n",
    "y_test = test_features['is_fraud'].values\n",
    "X_test = test_features.drop(['is_fraud'], axis='columns').values"
   ],
   "metadata": {
    "collapsed": false,
    "ExecuteTime": {
     "start_time": "2023-04-12T00:25:59.316269Z",
     "end_time": "2023-04-12T00:25:59.420007Z"
    }
   }
  },
  {
   "cell_type": "code",
   "execution_count": 42,
   "outputs": [
    {
     "name": "stdout",
     "output_type": "stream",
     "text": [
      "y_train:    1296675\n",
      "X_train:    1296675\n",
      "\n",
      "y_test:    555719\n",
      "X_test:    555719\n"
     ]
    }
   ],
   "source": [
    "print('y_train:   ', len(y_train))\n",
    "print('X_train:   ', len(X_train))\n",
    "print()\n",
    "print('y_test:   ', len(y_test))\n",
    "print('X_test:   ', len(X_test))\n"
   ],
   "metadata": {
    "collapsed": false,
    "ExecuteTime": {
     "start_time": "2023-04-12T00:25:59.400088Z",
     "end_time": "2023-04-12T00:25:59.448786Z"
    }
   }
  },
  {
   "cell_type": "markdown",
   "source": [
    "### 2.3. Solving disbalance"
   ],
   "metadata": {
    "collapsed": false
   }
  },
  {
   "cell_type": "markdown",
   "source": [
    "#### 2.3.1 SMOTE"
   ],
   "metadata": {
    "collapsed": false
   }
  },
  {
   "cell_type": "code",
   "execution_count": 43,
   "outputs": [],
   "source": [
    "from imblearn.over_sampling import SMOTE\n",
    "\n",
    "method = SMOTE()\n",
    "X_train_resampled, y_train_resampled = method.fit_resample(X_train, y_train)\n",
    "X_test_resampled, y_test_resampled = method.fit_resample(X_test, y_test)\n",
    "\n",
    "# X_train_resampled = X_train\n",
    "# y_train_resampled = y_train"
   ],
   "metadata": {
    "collapsed": false,
    "ExecuteTime": {
     "start_time": "2023-04-12T00:25:59.404615Z",
     "end_time": "2023-04-12T00:25:59.839531Z"
    }
   }
  },
  {
   "cell_type": "code",
   "execution_count": 44,
   "outputs": [
    {
     "name": "stdout",
     "output_type": "stream",
     "text": [
      "1289169\n",
      "1289169\n",
      "2578338\n",
      "X_resampled:\t 2578338\n",
      "y_resampled:\t 2578338\n"
     ]
    }
   ],
   "source": [
    "print(len(y_train_resampled[y_train_resampled == 0]))\n",
    "print(len(y_train_resampled[y_train_resampled == 1]))\n",
    "print(len(X_train_resampled))\n",
    "print('X_resampled:\\t', len(X_train_resampled))\n",
    "print('y_resampled:\\t', len(y_train_resampled))"
   ],
   "metadata": {
    "collapsed": false,
    "ExecuteTime": {
     "start_time": "2023-04-12T00:25:59.841300Z",
     "end_time": "2023-04-12T00:25:59.855310Z"
    }
   }
  },
  {
   "cell_type": "markdown",
   "source": [
    "#### 2.3.2 ADASYN"
   ],
   "metadata": {
    "collapsed": false
   }
  },
  {
   "cell_type": "code",
   "execution_count": 45,
   "outputs": [],
   "source": [
    "# from imblearn.over_sampling import ADASYN\n",
    "# method = ADASYN()\n",
    "# X_train_resampled, y_train_resampled = method.fit_resample(X_train, y_train)\n",
    "#\n",
    "# print(len(y_train_resampled[y_train_resampled == 0]))\n",
    "# print(len(y_train_resampled[y_train_resampled == 1]))\n",
    "# print(len(X_train_resampled))\n",
    "# print('X_resampled:\\t', len(X_train_resampled))\n",
    "# print('y_resampled:\\t', len(y_train_resampled))"
   ],
   "metadata": {
    "collapsed": false,
    "ExecuteTime": {
     "start_time": "2023-04-12T00:25:59.853355Z",
     "end_time": "2023-04-12T00:25:59.917959Z"
    }
   }
  },
  {
   "cell_type": "markdown",
   "source": [
    "### 3. Logistic regression modeling"
   ],
   "metadata": {
    "collapsed": false
   }
  },
  {
   "cell_type": "code",
   "execution_count": 46,
   "outputs": [],
   "source": [
    "from sklearn.linear_model import LogisticRegression"
   ],
   "metadata": {
    "collapsed": false,
    "ExecuteTime": {
     "start_time": "2023-04-12T00:25:59.897447Z",
     "end_time": "2023-04-12T00:25:59.918243Z"
    }
   }
  },
  {
   "cell_type": "code",
   "execution_count": 47,
   "outputs": [
    {
     "data": {
      "text/plain": "LogisticRegression()",
      "text/html": "<style>#sk-container-id-2 {color: black;background-color: white;}#sk-container-id-2 pre{padding: 0;}#sk-container-id-2 div.sk-toggleable {background-color: white;}#sk-container-id-2 label.sk-toggleable__label {cursor: pointer;display: block;width: 100%;margin-bottom: 0;padding: 0.3em;box-sizing: border-box;text-align: center;}#sk-container-id-2 label.sk-toggleable__label-arrow:before {content: \"▸\";float: left;margin-right: 0.25em;color: #696969;}#sk-container-id-2 label.sk-toggleable__label-arrow:hover:before {color: black;}#sk-container-id-2 div.sk-estimator:hover label.sk-toggleable__label-arrow:before {color: black;}#sk-container-id-2 div.sk-toggleable__content {max-height: 0;max-width: 0;overflow: hidden;text-align: left;background-color: #f0f8ff;}#sk-container-id-2 div.sk-toggleable__content pre {margin: 0.2em;color: black;border-radius: 0.25em;background-color: #f0f8ff;}#sk-container-id-2 input.sk-toggleable__control:checked~div.sk-toggleable__content {max-height: 200px;max-width: 100%;overflow: auto;}#sk-container-id-2 input.sk-toggleable__control:checked~label.sk-toggleable__label-arrow:before {content: \"▾\";}#sk-container-id-2 div.sk-estimator input.sk-toggleable__control:checked~label.sk-toggleable__label {background-color: #d4ebff;}#sk-container-id-2 div.sk-label input.sk-toggleable__control:checked~label.sk-toggleable__label {background-color: #d4ebff;}#sk-container-id-2 input.sk-hidden--visually {border: 0;clip: rect(1px 1px 1px 1px);clip: rect(1px, 1px, 1px, 1px);height: 1px;margin: -1px;overflow: hidden;padding: 0;position: absolute;width: 1px;}#sk-container-id-2 div.sk-estimator {font-family: monospace;background-color: #f0f8ff;border: 1px dotted black;border-radius: 0.25em;box-sizing: border-box;margin-bottom: 0.5em;}#sk-container-id-2 div.sk-estimator:hover {background-color: #d4ebff;}#sk-container-id-2 div.sk-parallel-item::after {content: \"\";width: 100%;border-bottom: 1px solid gray;flex-grow: 1;}#sk-container-id-2 div.sk-label:hover label.sk-toggleable__label {background-color: #d4ebff;}#sk-container-id-2 div.sk-serial::before {content: \"\";position: absolute;border-left: 1px solid gray;box-sizing: border-box;top: 0;bottom: 0;left: 50%;z-index: 0;}#sk-container-id-2 div.sk-serial {display: flex;flex-direction: column;align-items: center;background-color: white;padding-right: 0.2em;padding-left: 0.2em;position: relative;}#sk-container-id-2 div.sk-item {position: relative;z-index: 1;}#sk-container-id-2 div.sk-parallel {display: flex;align-items: stretch;justify-content: center;background-color: white;position: relative;}#sk-container-id-2 div.sk-item::before, #sk-container-id-2 div.sk-parallel-item::before {content: \"\";position: absolute;border-left: 1px solid gray;box-sizing: border-box;top: 0;bottom: 0;left: 50%;z-index: -1;}#sk-container-id-2 div.sk-parallel-item {display: flex;flex-direction: column;z-index: 1;position: relative;background-color: white;}#sk-container-id-2 div.sk-parallel-item:first-child::after {align-self: flex-end;width: 50%;}#sk-container-id-2 div.sk-parallel-item:last-child::after {align-self: flex-start;width: 50%;}#sk-container-id-2 div.sk-parallel-item:only-child::after {width: 0;}#sk-container-id-2 div.sk-dashed-wrapped {border: 1px dashed gray;margin: 0 0.4em 0.5em 0.4em;box-sizing: border-box;padding-bottom: 0.4em;background-color: white;}#sk-container-id-2 div.sk-label label {font-family: monospace;font-weight: bold;display: inline-block;line-height: 1.2em;}#sk-container-id-2 div.sk-label-container {text-align: center;}#sk-container-id-2 div.sk-container {/* jupyter's `normalize.less` sets `[hidden] { display: none; }` but bootstrap.min.css set `[hidden] { display: none !important; }` so we also need the `!important` here to be able to override the default hidden behavior on the sphinx rendered scikit-learn.org. See: https://github.com/scikit-learn/scikit-learn/issues/21755 */display: inline-block !important;position: relative;}#sk-container-id-2 div.sk-text-repr-fallback {display: none;}</style><div id=\"sk-container-id-2\" class=\"sk-top-container\"><div class=\"sk-text-repr-fallback\"><pre>LogisticRegression()</pre><b>In a Jupyter environment, please rerun this cell to show the HTML representation or trust the notebook. <br />On GitHub, the HTML representation is unable to render, please try loading this page with nbviewer.org.</b></div><div class=\"sk-container\" hidden><div class=\"sk-item\"><div class=\"sk-estimator sk-toggleable\"><input class=\"sk-toggleable__control sk-hidden--visually\" id=\"sk-estimator-id-2\" type=\"checkbox\" checked><label for=\"sk-estimator-id-2\" class=\"sk-toggleable__label sk-toggleable__label-arrow\">LogisticRegression</label><div class=\"sk-toggleable__content\"><pre>LogisticRegression()</pre></div></div></div></div></div>"
     },
     "execution_count": 47,
     "metadata": {},
     "output_type": "execute_result"
    }
   ],
   "source": [
    "model = LogisticRegression()\n",
    "model.fit(X_train_resampled, y_train_resampled)"
   ],
   "metadata": {
    "collapsed": false,
    "ExecuteTime": {
     "start_time": "2023-04-12T00:25:59.897586Z",
     "end_time": "2023-04-12T00:26:07.996201Z"
    }
   }
  },
  {
   "cell_type": "code",
   "execution_count": 48,
   "outputs": [],
   "source": [
    "predict = model.predict(X_test)"
   ],
   "metadata": {
    "collapsed": false,
    "ExecuteTime": {
     "start_time": "2023-04-12T00:26:07.958117Z",
     "end_time": "2023-04-12T00:26:07.996449Z"
    }
   }
  },
  {
   "cell_type": "code",
   "execution_count": 49,
   "outputs": [
    {
     "name": "stdout",
     "output_type": "stream",
     "text": [
      "[[519559  34015]\n",
      " [   533   1612]]\n"
     ]
    }
   ],
   "source": [
    "conf_mat = confusion_matrix(y_true=y_test, y_pred=predict)\n",
    "print(conf_mat)"
   ],
   "metadata": {
    "collapsed": false,
    "ExecuteTime": {
     "start_time": "2023-04-12T00:26:07.979111Z",
     "end_time": "2023-04-12T00:26:08.116356Z"
    }
   }
  },
  {
   "cell_type": "markdown",
   "source": [
    "<img src=\"../images/confusion_matrix.jpeg\">"
   ],
   "metadata": {
    "collapsed": false
   }
  },
  {
   "cell_type": "code",
   "execution_count": 50,
   "outputs": [
    {
     "name": "stdout",
     "output_type": "stream",
     "text": [
      "              precision    recall  f1-score   support\n",
      "\n",
      "           0       1.00      0.94      0.97    553574\n",
      "           1       0.05      0.75      0.09      2145\n",
      "\n",
      "    accuracy                           0.94    555719\n",
      "   macro avg       0.52      0.85      0.53    555719\n",
      "weighted avg       1.00      0.94      0.96    555719\n",
      "\n"
     ]
    }
   ],
   "source": [
    "print(classification_report(y_test, predict))"
   ],
   "metadata": {
    "collapsed": false,
    "ExecuteTime": {
     "start_time": "2023-04-12T00:26:08.109197Z",
     "end_time": "2023-04-12T00:26:08.524807Z"
    }
   }
  },
  {
   "cell_type": "code",
   "execution_count": 51,
   "outputs": [
    {
     "name": "stdout",
     "output_type": "stream",
     "text": [
      "ROC-AUC:\t 0.8450344926648004\n",
      "F-beta:\t 0.08535423064704013\n"
     ]
    }
   ],
   "source": [
    "from sklearn.metrics import roc_auc_score, fbeta_score\n",
    "print('ROC-AUC:\\t', roc_auc_score(y_test, predict))\n",
    "print('F-beta:\\t', fbeta_score(y_test, predict, beta=1))"
   ],
   "metadata": {
    "collapsed": false,
    "ExecuteTime": {
     "start_time": "2023-04-12T00:26:08.522381Z",
     "end_time": "2023-04-12T00:26:08.745559Z"
    }
   }
  },
  {
   "cell_type": "markdown",
   "source": [
    "### 4. SVC modeling"
   ],
   "metadata": {
    "collapsed": false
   }
  },
  {
   "cell_type": "code",
   "execution_count": 52,
   "outputs": [],
   "source": [
    "# from sklearn.svm import SVC\n",
    "#\n",
    "# svc_model = SVC()\n",
    "# svc_model.fit(X_train_resampled, y_train_resampled)\n",
    "#\n",
    "# svc_predict = svc_model.predict(X_test)\n",
    "# print(confusion_matrix(y_test, svc_predict))\n",
    "# print(classification_report(y_test, svc_predict))\n",
    "# print('ROC-AUC:\\t', roc_auc_score(y_test, predict))\n"
   ],
   "metadata": {
    "collapsed": false,
    "ExecuteTime": {
     "start_time": "2023-04-12T00:26:08.741759Z",
     "end_time": "2023-04-12T00:26:08.745748Z"
    }
   }
  },
  {
   "cell_type": "markdown",
   "source": [
    "### 5. Random forest"
   ],
   "metadata": {
    "collapsed": false
   }
  },
  {
   "cell_type": "code",
   "execution_count": 53,
   "outputs": [],
   "source": [
    "# from sklearn.ensemble import RandomForestClassifier\n",
    "# model2 = RandomForestClassifier(random_state=5)\n",
    "# model2.fit(X_train_resampled,y_train_resampled)"
   ],
   "metadata": {
    "collapsed": false,
    "ExecuteTime": {
     "start_time": "2023-04-12T00:26:08.744870Z",
     "end_time": "2023-04-12T00:26:08.756643Z"
    }
   }
  },
  {
   "cell_type": "code",
   "execution_count": 54,
   "outputs": [],
   "source": [
    "# predicted=model2.predict(X_test)\n",
    "# print('Classification report:\\n', classification_report(y_test, predicted))\n",
    "# conf_mat = confusion_matrix(y_true=y_test, y_pred=predicted)\n",
    "# print('Confusion matrix:\\n', conf_mat)\n",
    "# print('ROC-AUC:\\t', roc_auc_score(y_test, predict))\n",
    "# print('Share of Non-Fraud in Test Data:', 1-round(y_test.sum()/len(y_test),4))"
   ],
   "metadata": {
    "collapsed": false,
    "ExecuteTime": {
     "start_time": "2023-04-12T00:26:08.748208Z",
     "end_time": "2023-04-12T00:26:08.824492Z"
    }
   }
  },
  {
   "cell_type": "markdown",
   "source": [
    "### 4. Deсision Trees"
   ],
   "metadata": {
    "collapsed": false
   }
  },
  {
   "cell_type": "code",
   "execution_count": 55,
   "outputs": [],
   "source": [
    "# from sklearn.tree import DecisionTreeClassifier\n",
    "#\n",
    "# clf_model = DecisionTreeClassifier(random_state=42)\n",
    "# clf_model.fit(X_train_resampled, y_train_resampled)"
   ],
   "metadata": {
    "collapsed": false,
    "ExecuteTime": {
     "start_time": "2023-04-12T00:26:08.793337Z",
     "end_time": "2023-04-12T00:26:08.852493Z"
    }
   }
  },
  {
   "cell_type": "code",
   "execution_count": 56,
   "outputs": [],
   "source": [
    "# predict = clf_model.predict(X_test)\n",
    "# print('Classification report:\\n', classification_report(y_test, predict))\n",
    "# conf_mat = confusion_matrix(y_true=y_test, y_pred=predict)\n",
    "# print('Confusion matrix:\\n', conf_mat)\n",
    "# print('ROC-AUC:\\t', roc_auc_score(y_test, predict))"
   ],
   "metadata": {
    "collapsed": false,
    "ExecuteTime": {
     "start_time": "2023-04-12T00:26:08.793577Z",
     "end_time": "2023-04-12T00:26:08.852704Z"
    }
   }
  },
  {
   "cell_type": "markdown",
   "source": [
    "### 5. KNN"
   ],
   "metadata": {
    "collapsed": false
   }
  },
  {
   "cell_type": "code",
   "execution_count": 57,
   "outputs": [],
   "source": [
    "# from sklearn.neighbors import KNeighborsClassifier\n",
    "#\n",
    "# clf = KNeighborsClassifier(n_neighbors=100)\n",
    "# clf.fit(X_train_resampled, y_train_resampled)"
   ],
   "metadata": {
    "collapsed": false,
    "ExecuteTime": {
     "start_time": "2023-04-12T00:26:08.793803Z",
     "end_time": "2023-04-12T00:26:08.852880Z"
    }
   }
  },
  {
   "cell_type": "code",
   "execution_count": 58,
   "outputs": [],
   "source": [
    "# predict = clf.predict(X_test)\n",
    "# print(classification_report(y_test, predict))\n",
    "# print('ROC-AUC:\\t', roc_auc_score(y_test, predict))"
   ],
   "metadata": {
    "collapsed": false,
    "ExecuteTime": {
     "start_time": "2023-04-12T00:26:08.794028Z",
     "end_time": "2023-04-12T00:26:08.853018Z"
    }
   }
  },
  {
   "cell_type": "markdown",
   "source": [
    "### 6. Neural Network"
   ],
   "metadata": {
    "collapsed": false
   }
  },
  {
   "cell_type": "code",
   "execution_count": 59,
   "outputs": [],
   "source": [
    "# from sklearn.neural_network import MLPClassifier\n",
    "# mlp_model = MLPClassifier(alpha = 1e-5, hidden_layer_sizes=(5, 5), random_state=1)\n",
    "# mlp_model.fit(X_train_resampled, y_train_resampled)"
   ],
   "metadata": {
    "collapsed": false,
    "ExecuteTime": {
     "start_time": "2023-04-12T00:26:08.794203Z",
     "end_time": "2023-04-12T00:26:08.853111Z"
    }
   }
  },
  {
   "cell_type": "code",
   "execution_count": 60,
   "outputs": [],
   "source": [
    "# mlp_pred = mlp_model.predict(X_test)\n",
    "# print(classification_report(y_test, mlp_pred))\n",
    "# print('ROC-AUC:\\t', roc_auc_score(y_test, predict))"
   ],
   "metadata": {
    "collapsed": false,
    "ExecuteTime": {
     "start_time": "2023-04-12T00:26:08.794351Z",
     "end_time": "2023-04-12T00:26:08.853197Z"
    }
   }
  },
  {
   "cell_type": "markdown",
   "source": [
    "### 7. Gradient boosting"
   ],
   "metadata": {
    "collapsed": false
   }
  },
  {
   "cell_type": "code",
   "execution_count": 61,
   "outputs": [],
   "source": [
    "# from sklearn.ensemble import GradientBoostingClassifier\n",
    "#\n",
    "# gb = GradientBoostingClassifier()\n",
    "# gb.fit(X_train_resampled, y_train_resampled)"
   ],
   "metadata": {
    "collapsed": false,
    "ExecuteTime": {
     "start_time": "2023-04-12T00:26:08.794589Z",
     "end_time": "2023-04-12T00:26:08.853287Z"
    }
   }
  },
  {
   "cell_type": "code",
   "execution_count": 62,
   "outputs": [],
   "source": [
    "# predict = gb.predict(X_test)\n",
    "# print(classification_report(y_test, predict))\n",
    "# print('ROC-AUC:\\t', roc_auc_score(y_test, predict))"
   ],
   "metadata": {
    "collapsed": false,
    "ExecuteTime": {
     "start_time": "2023-04-12T00:26:08.794695Z",
     "end_time": "2023-04-12T00:26:08.853369Z"
    }
   }
  },
  {
   "cell_type": "code",
   "execution_count": 62,
   "outputs": [],
   "source": [],
   "metadata": {
    "collapsed": false,
    "ExecuteTime": {
     "start_time": "2023-04-12T00:26:08.794803Z",
     "end_time": "2023-04-12T00:26:08.853462Z"
    }
   }
  }
 ],
 "metadata": {
  "kernelspec": {
   "display_name": "Python 3",
   "language": "python",
   "name": "python3"
  },
  "language_info": {
   "codemirror_mode": {
    "name": "ipython",
    "version": 2
   },
   "file_extension": ".py",
   "mimetype": "text/x-python",
   "name": "python",
   "nbconvert_exporter": "python",
   "pygments_lexer": "ipython2",
   "version": "2.7.6"
  }
 },
 "nbformat": 4,
 "nbformat_minor": 0
}
